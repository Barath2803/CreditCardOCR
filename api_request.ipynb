{
 "cells": [
  {
   "cell_type": "code",
   "execution_count": 2,
   "id": "d298f060-a755-49d7-9b6d-5abd357f4865",
   "metadata": {
    "tags": []
   },
   "outputs": [
    {
     "name": "stderr",
     "output_type": "stream",
     "text": [
      "2024-07-01 14:19:09.458705: I tensorflow/core/util/port.cc:113] oneDNN custom operations are on. You may see slightly different numerical results due to floating-point round-off errors from different computation orders. To turn them off, set the environment variable `TF_ENABLE_ONEDNN_OPTS=0`.\n",
      "2024-07-01 14:19:12.145046: E external/local_xla/xla/stream_executor/cuda/cuda_fft.cc:479] Unable to register cuFFT factory: Attempting to register factory for plugin cuFFT when one has already been registered\n",
      "2024-07-01 14:19:12.936150: E external/local_xla/xla/stream_executor/cuda/cuda_dnn.cc:10575] Unable to register cuDNN factory: Attempting to register factory for plugin cuDNN when one has already been registered\n",
      "2024-07-01 14:19:12.942869: E external/local_xla/xla/stream_executor/cuda/cuda_blas.cc:1442] Unable to register cuBLAS factory: Attempting to register factory for plugin cuBLAS when one has already been registered\n",
      "2024-07-01 14:19:14.542482: I tensorflow/core/platform/cpu_feature_guard.cc:210] This TensorFlow binary is optimized to use available CPU instructions in performance-critical operations.\n",
      "To enable the following instructions: AVX2 AVX512F AVX512_VNNI FMA, in other operations, rebuild TensorFlow with the appropriate compiler flags.\n"
     ]
    }
   ],
   "source": [
    "from transformers import AutoProcessor, AutoModelForCausalLM  \n",
    "from PIL import Image\n",
    "import requests\n",
    "import copy\n",
    "from PIL import Image, ImageDraw, ImageFont \n",
    "import random\n",
    "import numpy as np\n",
    "import os\n",
    "from tqdm import tqdm\n",
    "import copy\n",
    "import re\n",
    "from IPython.display import display, HTML\n",
    "import rembg\n",
    "import matplotlib.pyplot as plt\n",
    "%matplotlib inline\n",
    "\n",
    "colormap = ['blue','orange','green','purple','brown','pink','gray','olive','cyan','red',\n",
    "            'lime','indigo','violet','aqua','magenta','coral','gold','tan','skyblue']"
   ]
  },
  {
   "cell_type": "markdown",
   "id": "977a97eb-f945-4914-ba99-5dff523d73b8",
   "metadata": {},
   "source": [
    "## Load the model"
   ]
  },
  {
   "cell_type": "code",
   "execution_count": 3,
   "id": "173960a4-bffd-4764-a561-c4f154011eb5",
   "metadata": {
    "tags": []
   },
   "outputs": [
    {
     "data": {
      "application/vnd.jupyter.widget-view+json": {
       "model_id": "5c3ca80e723a4ba6b592b4099f06641e",
       "version_major": 2,
       "version_minor": 0
      },
      "text/plain": [
       "config.json:   0%|          | 0.00/2.43k [00:00<?, ?B/s]"
      ]
     },
     "metadata": {},
     "output_type": "display_data"
    },
    {
     "data": {
      "application/vnd.jupyter.widget-view+json": {
       "model_id": "679a26c718d0439abb6a8a763e0a8f02",
       "version_major": 2,
       "version_minor": 0
      },
      "text/plain": [
       "configuration_florence2.py:   0%|          | 0.00/15.1k [00:00<?, ?B/s]"
      ]
     },
     "metadata": {},
     "output_type": "display_data"
    },
    {
     "name": "stderr",
     "output_type": "stream",
     "text": [
      "A new version of the following files was downloaded from https://huggingface.co/microsoft/Florence-2-base-ft:\n",
      "- configuration_florence2.py\n",
      ". Make sure to double-check they do not contain any added malicious code. To avoid downloading new versions of the code file, you can pin a revision.\n"
     ]
    },
    {
     "data": {
      "application/vnd.jupyter.widget-view+json": {
       "model_id": "c5d753f33f184974bc5896e8d5626d27",
       "version_major": 2,
       "version_minor": 0
      },
      "text/plain": [
       "modeling_florence2.py:   0%|          | 0.00/127k [00:00<?, ?B/s]"
      ]
     },
     "metadata": {},
     "output_type": "display_data"
    },
    {
     "name": "stderr",
     "output_type": "stream",
     "text": [
      "A new version of the following files was downloaded from https://huggingface.co/microsoft/Florence-2-base-ft:\n",
      "- modeling_florence2.py\n",
      ". Make sure to double-check they do not contain any added malicious code. To avoid downloading new versions of the code file, you can pin a revision.\n"
     ]
    },
    {
     "data": {
      "application/vnd.jupyter.widget-view+json": {
       "model_id": "d044c41c27aa454db29ccc2f760efddc",
       "version_major": 2,
       "version_minor": 0
      },
      "text/plain": [
       "pytorch_model.bin:   0%|          | 0.00/464M [00:00<?, ?B/s]"
      ]
     },
     "metadata": {},
     "output_type": "display_data"
    },
    {
     "data": {
      "application/vnd.jupyter.widget-view+json": {
       "model_id": "98f1da2f003345d1ad745aca7037e358",
       "version_major": 2,
       "version_minor": 0
      },
      "text/plain": [
       "preprocessor_config.json:   0%|          | 0.00/806 [00:00<?, ?B/s]"
      ]
     },
     "metadata": {},
     "output_type": "display_data"
    },
    {
     "data": {
      "application/vnd.jupyter.widget-view+json": {
       "model_id": "fd450316d4ba4bb3aa1ca4c68430b99c",
       "version_major": 2,
       "version_minor": 0
      },
      "text/plain": [
       "processing_florence2.py:   0%|          | 0.00/46.4k [00:00<?, ?B/s]"
      ]
     },
     "metadata": {},
     "output_type": "display_data"
    },
    {
     "name": "stderr",
     "output_type": "stream",
     "text": [
      "A new version of the following files was downloaded from https://huggingface.co/microsoft/Florence-2-base-ft:\n",
      "- processing_florence2.py\n",
      ". Make sure to double-check they do not contain any added malicious code. To avoid downloading new versions of the code file, you can pin a revision.\n"
     ]
    },
    {
     "data": {
      "application/vnd.jupyter.widget-view+json": {
       "model_id": "0598dca39b5d459f93766e8da622b724",
       "version_major": 2,
       "version_minor": 0
      },
      "text/plain": [
       "tokenizer_config.json:   0%|          | 0.00/34.0 [00:00<?, ?B/s]"
      ]
     },
     "metadata": {},
     "output_type": "display_data"
    },
    {
     "data": {
      "application/vnd.jupyter.widget-view+json": {
       "model_id": "56ecd92126634620bccf4daa0f4d5b86",
       "version_major": 2,
       "version_minor": 0
      },
      "text/plain": [
       "vocab.json:   0%|          | 0.00/1.10M [00:00<?, ?B/s]"
      ]
     },
     "metadata": {},
     "output_type": "display_data"
    },
    {
     "data": {
      "application/vnd.jupyter.widget-view+json": {
       "model_id": "164cdd20f8cd4cb5850150fb7a446268",
       "version_major": 2,
       "version_minor": 0
      },
      "text/plain": [
       "tokenizer.json:   0%|          | 0.00/1.36M [00:00<?, ?B/s]"
      ]
     },
     "metadata": {},
     "output_type": "display_data"
    }
   ],
   "source": [
    "model_id = 'microsoft/Florence-2-base-ft'\n",
    "model = AutoModelForCausalLM.from_pretrained(model_id, trust_remote_code=True).eval().cuda()\n",
    "processor = AutoProcessor.from_pretrained(model_id, trust_remote_code=True)"
   ]
  },
  {
   "cell_type": "code",
   "execution_count": 7,
   "id": "6df7c862-e38f-433c-be85-cf3e6f5baf14",
   "metadata": {
    "tags": []
   },
   "outputs": [],
   "source": [
    "# Code to extract\n",
    "def extract_text(task_prompt, image, text_input=None):\n",
    "    if text_input is None:\n",
    "        prompt = task_prompt\n",
    "    else:\n",
    "        prompt = task_prompt + text_input\n",
    "        print(prompt)\n",
    "    inputs = processor(text=prompt, images=image, return_tensors=\"pt\")\n",
    "    generated_ids = model.generate(\n",
    "      input_ids=inputs[\"input_ids\"].cuda(),\n",
    "      pixel_values=inputs[\"pixel_values\"].cuda(),\n",
    "      max_new_tokens=1024,\n",
    "      early_stopping=False,\n",
    "      do_sample=False,\n",
    "      num_beams=3,\n",
    "    )\n",
    "    generated_text = processor.batch_decode(generated_ids, skip_special_tokens=False)[0]\n",
    "    parsed_answer = processor.post_process_generation(\n",
    "        generated_text, \n",
    "        task=task_prompt, \n",
    "        image_size=(image.width, image.height)\n",
    "    )\n",
    "\n",
    "    return parsed_answer"
   ]
  },
  {
   "cell_type": "code",
   "execution_count": 6,
   "id": "7f23bdcf-4e41-4235-9347-8fad5de45135",
   "metadata": {
    "tags": []
   },
   "outputs": [],
   "source": [
    "# Extract necessary info from ocr response\n",
    "def extract_info(labels):\n",
    "    account_number_pattern_1 = re.compile(r'\\b(?:\\d{1,4}\\s*){1,2}\\d{2,4}\\s?\\d{2,4}\\s?\\d{2,4}\\s?\\d{1,4}\\b')\n",
    "    account_number_pattern_2 = r'\\b\\d+\\b'\n",
    "    validity_date_pattern = re.compile(r'\\b(?:THRU)?\\d{2}\\s*/\\s*\\d{2}\\b')\n",
    "    name_pattern_1 = re.compile(r'^[A-Z.]{1,23}\\s[A-Z. ]{1,23}$')\n",
    "    \n",
    "    result = {\n",
    "        'account_number': None,\n",
    "        'account_holder_name': None,\n",
    "        'validity_date': None\n",
    "    }\n",
    "    splitted_acc_number = \"\"\n",
    "    for label in labels:\n",
    "        if account_number_pattern_1.match(label):\n",
    "            label = label.replace(\" \", \"\")\n",
    "            if len(label) > 16:\n",
    "                label = label[:16]\n",
    "            formatted_label = ' '.join([label[i:i+4] for i in range(0, len(label), 4)])\n",
    "            result['account_number'] = formatted_label\n",
    "        if result['account_number'] is None or len(result['account_number']) < 19:\n",
    "            numbers = re.findall(account_number_pattern_2, label)\n",
    "            splitted_acc_number += ' '.join(numbers)\n",
    "            \n",
    "        if validity_date_pattern.search(label):\n",
    "            match = validity_date_pattern.search(label).group(0)\n",
    "            result['validity_date'] = re.sub(r'[^/\\d]', '', match)\n",
    "            \n",
    "        if name_pattern_1.match(label) and not account_number_pattern_1.match(label) and not validity_date_pattern.match(label):\n",
    "            result['account_holder_name'] = label\n",
    "        \n",
    "        # if result['account_holder_name'] is None and name_pattern_2.match(label) and not account_number_pattern_1.match(label) and not validity_date_pattern.match(label):\n",
    "        #     label = re.sub(r'[^A-Z. ]', '', label)\n",
    "        #     result['account_holder_name'] = label\n",
    "            \n",
    "    if result['account_number'] is None or len(result['account_number']) != 19:\n",
    "        splitted_acc_number = splitted_acc_number.replace(\" \", \"\")\n",
    "        if len(splitted_acc_number) == 0:\n",
    "            result['account_number'] = None\n",
    "        if len(splitted_acc_number) > 16:\n",
    "            splitted_acc_number = splitted_acc_number[:16]\n",
    "        splitted_acc_number = ' '.join([splitted_acc_number[i:i+4] for i in range(0, len(splitted_acc_number), 4)])\n",
    "        result['account_number'] = splitted_acc_number\n",
    "    return result"
   ]
  },
  {
   "cell_type": "code",
   "execution_count": 4,
   "id": "d35ce770-7d99-4129-980f-571dc0fe6593",
   "metadata": {
    "tags": []
   },
   "outputs": [],
   "source": [
    "# Display the image and results\n",
    "def display_image_and_info(image_path, info, ocr_results):\n",
    "    image = Image.open(image_path).convert('RGB')\n",
    "    # display(image)\n",
    "    html_content = f\"\"\"\n",
    "    <div style=\"display: flex; flex-direction: column; align-items: flex-start;\">\n",
    "        <p><strong>Image Path:</strong> {image_path}</p>\n",
    "        <div style=\"display: flex;\">\n",
    "            <div style=\"margin-right: 20px;\">\n",
    "                <img src=\"{image_path}\" style=\"max-width: 300px; max-height: 300px;\">\n",
    "            </div>\n",
    "            <div>\n",
    "                <p><strong>OCR Labels:</strong> {', '.join(ocr_results['labels'])}</p>\n",
    "                <p><strong>Account Number:</strong> {info['account_number']}</p>\n",
    "                <p><strong>Account Holder Name:</strong> {info['account_holder_name']}</p>\n",
    "                <p><strong>Validity Date:</strong> {info['validity_date']}</p>\n",
    "            </div>\n",
    "        </div>\n",
    "    </div>\n",
    "    \"\"\"\n",
    "    display(HTML(html_content))\n",
    "    print(\"---\"*30)"
   ]
  },
  {
   "cell_type": "code",
   "execution_count": 5,
   "id": "138999f5-8aa7-4bbb-b9dd-297e8d4427e1",
   "metadata": {
    "tags": []
   },
   "outputs": [],
   "source": [
    "def get_input_images(folder_path):\n",
    "    files = os.listdir(folder_path)\n",
    "    image_files = [file for file in files if file.lower().endswith(('.png', '.jpg', '.jpeg'))]\n",
    "    image_paths = []\n",
    "    for image_file in image_files:\n",
    "        image_path = os.path.join(folder_path, image_file)\n",
    "        image_paths.append(image_path)\n",
    "    return image_paths"
   ]
  },
  {
   "cell_type": "code",
   "execution_count": 8,
   "id": "bbc68af9-e041-4dff-a732-bc6fdd40a125",
   "metadata": {
    "tags": []
   },
   "outputs": [
    {
     "data": {
      "text/plain": [
       "77"
      ]
     },
     "execution_count": 8,
     "metadata": {},
     "output_type": "execute_result"
    }
   ],
   "source": [
    "image_paths = get_input_images(\"images\")\n",
    "# image_paths = get_input_images(\"images-bg\")\n",
    "# image_paths = get_input_images(\"real_world_images\")\n",
    "# image_paths = get_input_images(\"scaled_img\")\n",
    "# image_paths = get_input_images(\"enhanced_img\")\n",
    "len(image_paths)"
   ]
  },
  {
   "cell_type": "code",
   "execution_count": 14,
   "id": "eaaa72e6-b9ed-4c5c-a404-fb48678985d2",
   "metadata": {
    "tags": []
   },
   "outputs": [],
   "source": [
    "# OCR with region or OCR\n",
    "\n",
    "task_prompt = '<OCR_WITH_REGION>'\n",
    "# task_prompt = '<OCR>'"
   ]
  },
  {
   "cell_type": "code",
   "execution_count": 15,
   "id": "3c38b0bc-c0d4-4ba9-b690-c685933dfb88",
   "metadata": {
    "tags": []
   },
   "outputs": [
    {
     "name": "stderr",
     "output_type": "stream",
     "text": [
      "100%|██████████| 77/77 [01:10<00:00,  1.09it/s]\n"
     ]
    }
   ],
   "source": [
    "results = []\n",
    "for image_path in tqdm(image_paths):\n",
    "    image = Image.open(image_path).convert('RGB')\n",
    "    results.append(extract_text(task_prompt, image))"
   ]
  },
  {
   "cell_type": "code",
   "execution_count": 16,
   "id": "3c2d7f73-b704-4499-989a-35eefaf08c47",
   "metadata": {
    "tags": []
   },
   "outputs": [],
   "source": [
    "cleaned_extraction = []\n",
    "for i in range(len(results)):\n",
    "    cleaned_text = extract_info(results[i]['<OCR_WITH_REGION>']['labels'])\n",
    "    cleaned_extraction.append(cleaned_text)"
   ]
  },
  {
   "cell_type": "code",
   "execution_count": 17,
   "id": "45536231-e21a-412e-b46e-1aed6264e524",
   "metadata": {
    "scrolled": true,
    "tags": []
   },
   "outputs": [
    {
     "data": {
      "text/html": [
       "\n",
       "    <div style=\"display: flex; flex-direction: column; align-items: flex-start;\">\n",
       "        <p><strong>Image Path:</strong> images/Bukopin Kredit.png</p>\n",
       "        <div style=\"display: flex;\">\n",
       "            <div style=\"margin-right: 20px;\">\n",
       "                <img src=\"images/Bukopin Kredit.png\" style=\"max-width: 300px; max-height: 300px;\">\n",
       "            </div>\n",
       "            <div>\n",
       "                <p><strong>OCR Labels:</strong> </s>BANK BUKOPIN, 4987 1230 8000 2121, HENER 01/12, VALID 08/14, CERMAT INDRA KUSUMA, VISA</p>\n",
       "                <p><strong>Account Number:</strong> 4987 1230 8000 2121</p>\n",
       "                <p><strong>Account Holder Name:</strong> CERMAT INDRA KUSUMA</p>\n",
       "                <p><strong>Validity Date:</strong> 08/14</p>\n",
       "            </div>\n",
       "        </div>\n",
       "    </div>\n",
       "    "
      ],
      "text/plain": [
       "<IPython.core.display.HTML object>"
      ]
     },
     "metadata": {},
     "output_type": "display_data"
    },
    {
     "name": "stdout",
     "output_type": "stream",
     "text": [
      "------------------------------------------------------------------------------------------\n"
     ]
    },
    {
     "data": {
      "text/html": [
       "\n",
       "    <div style=\"display: flex; flex-direction: column; align-items: flex-start;\">\n",
       "        <p><strong>Image Path:</strong> images/ORRM7PCMZU5S.jpg</p>\n",
       "        <div style=\"display: flex;\">\n",
       "            <div style=\"margin-right: 20px;\">\n",
       "                <img src=\"images/ORRM7PCMZU5S.jpg\" style=\"max-width: 300px; max-height: 300px;\">\n",
       "            </div>\n",
       "            <div>\n",
       "                <p><strong>OCR Labels:</strong> </s>Banco Municipal, 4509 1255 4301 0727, AYELLO EMILAND, VISA</p>\n",
       "                <p><strong>Account Number:</strong> 4509 1255 4301 0727</p>\n",
       "                <p><strong>Account Holder Name:</strong> AYELLO EMILAND</p>\n",
       "                <p><strong>Validity Date:</strong> None</p>\n",
       "            </div>\n",
       "        </div>\n",
       "    </div>\n",
       "    "
      ],
      "text/plain": [
       "<IPython.core.display.HTML object>"
      ]
     },
     "metadata": {},
     "output_type": "display_data"
    },
    {
     "name": "stdout",
     "output_type": "stream",
     "text": [
      "------------------------------------------------------------------------------------------\n"
     ]
    },
    {
     "data": {
      "text/html": [
       "\n",
       "    <div style=\"display: flex; flex-direction: column; align-items: flex-start;\">\n",
       "        <p><strong>Image Path:</strong> images/Permata bank Kredit.jpg</p>\n",
       "        <div style=\"display: flex;\">\n",
       "            <div style=\"margin-right: 20px;\">\n",
       "                <img src=\"images/Permata bank Kredit.jpg\" style=\"max-width: 300px; max-height: 300px;\">\n",
       "            </div>\n",
       "            <div>\n",
       "                <p><strong>OCR Labels:</strong> </s>REWARD CARD, PermataBank, 5543 12234 5678 9010, WRE 05/08 12/52, SETYAMAN AIAITA, MasterCard, Platinum</p>\n",
       "                <p><strong>Account Number:</strong> 5543 1223 4567 8901</p>\n",
       "                <p><strong>Account Holder Name:</strong> SETYAMAN AIAITA</p>\n",
       "                <p><strong>Validity Date:</strong> 05/08</p>\n",
       "            </div>\n",
       "        </div>\n",
       "    </div>\n",
       "    "
      ],
      "text/plain": [
       "<IPython.core.display.HTML object>"
      ]
     },
     "metadata": {},
     "output_type": "display_data"
    },
    {
     "name": "stdout",
     "output_type": "stream",
     "text": [
      "------------------------------------------------------------------------------------------\n"
     ]
    },
    {
     "data": {
      "text/html": [
       "\n",
       "    <div style=\"display: flex; flex-direction: column; align-items: flex-start;\">\n",
       "        <p><strong>Image Path:</strong> images/UOB Debitt.jpg</p>\n",
       "        <div style=\"display: flex;\">\n",
       "            <div style=\"margin-right: 20px;\">\n",
       "                <img src=\"images/UOB Debitt.jpg\" style=\"max-width: 300px; max-height: 300px;\">\n",
       "            </div>\n",
       "            <div>\n",
       "                <p><strong>OCR Labels:</strong> </s>#UOB, 1234 5678 1234 5678, 11/20, PUTERA NAGARA, GPN</p>\n",
       "                <p><strong>Account Number:</strong> 1234 5678 1234 5678</p>\n",
       "                <p><strong>Account Holder Name:</strong> PUTERA NAGARA</p>\n",
       "                <p><strong>Validity Date:</strong> 11/20</p>\n",
       "            </div>\n",
       "        </div>\n",
       "    </div>\n",
       "    "
      ],
      "text/plain": [
       "<IPython.core.display.HTML object>"
      ]
     },
     "metadata": {},
     "output_type": "display_data"
    },
    {
     "name": "stdout",
     "output_type": "stream",
     "text": [
      "------------------------------------------------------------------------------------------\n"
     ]
    },
    {
     "data": {
      "text/html": [
       "\n",
       "    <div style=\"display: flex; flex-direction: column; align-items: flex-start;\">\n",
       "        <p><strong>Image Path:</strong> images/image-20240620-024309.png</p>\n",
       "        <div style=\"display: flex;\">\n",
       "            <div style=\"margin-right: 20px;\">\n",
       "                <img src=\"images/image-20240620-024309.png\" style=\"max-width: 300px; max-height: 300px;\">\n",
       "            </div>\n",
       "            <div>\n",
       "                <p><strong>OCR Labels:</strong> </s>BCA, BLACK, titanium, 5432 4812 3456 7888, 12/23, ANDHIKA PUTRA</p>\n",
       "                <p><strong>Account Number:</strong> 5432 4812 3456 7888</p>\n",
       "                <p><strong>Account Holder Name:</strong> ANDHIKA PUTRA</p>\n",
       "                <p><strong>Validity Date:</strong> 12/23</p>\n",
       "            </div>\n",
       "        </div>\n",
       "    </div>\n",
       "    "
      ],
      "text/plain": [
       "<IPython.core.display.HTML object>"
      ]
     },
     "metadata": {},
     "output_type": "display_data"
    },
    {
     "name": "stdout",
     "output_type": "stream",
     "text": [
      "------------------------------------------------------------------------------------------\n"
     ]
    },
    {
     "data": {
      "text/html": [
       "\n",
       "    <div style=\"display: flex; flex-direction: column; align-items: flex-start;\">\n",
       "        <p><strong>Image Path:</strong> images/HSBC Debit.jpg</p>\n",
       "        <div style=\"display: flex;\">\n",
       "            <div style=\"margin-right: 20px;\">\n",
       "                <img src=\"images/HSBC Debit.jpg\" style=\"max-width: 300px; max-height: 300px;\">\n",
       "            </div>\n",
       "            <div>\n",
       "                <p><strong>OCR Labels:</strong> </s>HSBC, Fusion, Business | Debt, 4705 8520 4345 6789, THRU-04/21, VISA, SETTAUAN K</p>\n",
       "                <p><strong>Account Number:</strong> 4705 8520 4345 6789</p>\n",
       "                <p><strong>Account Holder Name:</strong> SETTAUAN K</p>\n",
       "                <p><strong>Validity Date:</strong> 04/21</p>\n",
       "            </div>\n",
       "        </div>\n",
       "    </div>\n",
       "    "
      ],
      "text/plain": [
       "<IPython.core.display.HTML object>"
      ]
     },
     "metadata": {},
     "output_type": "display_data"
    },
    {
     "name": "stdout",
     "output_type": "stream",
     "text": [
      "------------------------------------------------------------------------------------------\n"
     ]
    },
    {
     "data": {
      "text/html": [
       "\n",
       "    <div style=\"display: flex; flex-direction: column; align-items: flex-start;\">\n",
       "        <p><strong>Image Path:</strong> images/VIZBFL78ZSXE.jpg</p>\n",
       "        <div style=\"display: flex;\">\n",
       "            <div style=\"margin-right: 20px;\">\n",
       "                <img src=\"images/VIZBFL78ZSXE.jpg\" style=\"max-width: 300px; max-height: 300px;\">\n",
       "            </div>\n",
       "            <div>\n",
       "                <p><strong>OCR Labels:</strong> </s>BancoEstado, 4859 2546 589 5478, VISA, JUAN PABLO CONTREAS</p>\n",
       "                <p><strong>Account Number:</strong> 4859 2546 5895 478</p>\n",
       "                <p><strong>Account Holder Name:</strong> JUAN PABLO CONTREAS</p>\n",
       "                <p><strong>Validity Date:</strong> None</p>\n",
       "            </div>\n",
       "        </div>\n",
       "    </div>\n",
       "    "
      ],
      "text/plain": [
       "<IPython.core.display.HTML object>"
      ]
     },
     "metadata": {},
     "output_type": "display_data"
    },
    {
     "name": "stdout",
     "output_type": "stream",
     "text": [
      "------------------------------------------------------------------------------------------\n"
     ]
    },
    {
     "data": {
      "text/html": [
       "\n",
       "    <div style=\"display: flex; flex-direction: column; align-items: flex-start;\">\n",
       "        <p><strong>Image Path:</strong> images/CIMB Niaga 1.jpg</p>\n",
       "        <div style=\"display: flex;\">\n",
       "            <div style=\"margin-right: 20px;\">\n",
       "                <img src=\"images/CIMB Niaga 1.jpg\" style=\"max-width: 300px; max-height: 300px;\">\n",
       "            </div>\n",
       "            <div>\n",
       "                <p><strong>OCR Labels:</strong> </s>CIMBNIAGA, gold, 5000 1234 5678 9010, 00/00, CERMAT INDRA KUSUMA, mastercard</p>\n",
       "                <p><strong>Account Number:</strong> 5000 1234 5678 9010</p>\n",
       "                <p><strong>Account Holder Name:</strong> CERMAT INDRA KUSUMA</p>\n",
       "                <p><strong>Validity Date:</strong> 00/00</p>\n",
       "            </div>\n",
       "        </div>\n",
       "    </div>\n",
       "    "
      ],
      "text/plain": [
       "<IPython.core.display.HTML object>"
      ]
     },
     "metadata": {},
     "output_type": "display_data"
    },
    {
     "name": "stdout",
     "output_type": "stream",
     "text": [
      "------------------------------------------------------------------------------------------\n"
     ]
    },
    {
     "data": {
      "text/html": [
       "\n",
       "    <div style=\"display: flex; flex-direction: column; align-items: flex-start;\">\n",
       "        <p><strong>Image Path:</strong> images/OG36PEVWXX2G.jpg</p>\n",
       "        <div style=\"display: flex;\">\n",
       "            <div style=\"margin-right: 20px;\">\n",
       "                <img src=\"images/OG36PEVWXX2G.jpg\" style=\"max-width: 300px; max-height: 300px;\">\n",
       "            </div>\n",
       "            <div>\n",
       "                <p><strong>OCR Labels:</strong> </s>Comerica Bank, DIRECTEXPRESS, DEBIT, 5000 0012 3456, MasterCard, 00/00, ACCOUNT/CARDHOLDER NAME</p>\n",
       "                <p><strong>Account Number:</strong> 5000 0012 3456 0000</p>\n",
       "                <p><strong>Account Holder Name:</strong> None</p>\n",
       "                <p><strong>Validity Date:</strong> 00/00</p>\n",
       "            </div>\n",
       "        </div>\n",
       "    </div>\n",
       "    "
      ],
      "text/plain": [
       "<IPython.core.display.HTML object>"
      ]
     },
     "metadata": {},
     "output_type": "display_data"
    },
    {
     "name": "stdout",
     "output_type": "stream",
     "text": [
      "------------------------------------------------------------------------------------------\n"
     ]
    },
    {
     "data": {
      "text/html": [
       "\n",
       "    <div style=\"display: flex; flex-direction: column; align-items: flex-start;\">\n",
       "        <p><strong>Image Path:</strong> images/F9RPHQFMZBZN.jpg</p>\n",
       "        <div style=\"display: flex;\">\n",
       "            <div style=\"margin-right: 20px;\">\n",
       "                <img src=\"images/F9RPHQFMZBZN.jpg\" style=\"max-width: 300px; max-height: 300px;\">\n",
       "            </div>\n",
       "            <div>\n",
       "                <p><strong>OCR Labels:</strong> </s>BANCOPATAGONIA, Patagonia, UNNE, Universityitaria, PATagonIA 24, 4765 2000 1028 7038, INTERNATIONAL, 05/05, 06/07, ANA GARCIA, VISA, 001 CASA CENTRAL, Electron, SOLAMENTE U90 ELECTRONICO FOR ELECTRONIC USE ONLY</p>\n",
       "                <p><strong>Account Number:</strong> 4765 2000 1028 7038</p>\n",
       "                <p><strong>Account Holder Name:</strong> ANA GARCIA</p>\n",
       "                <p><strong>Validity Date:</strong> 06/07</p>\n",
       "            </div>\n",
       "        </div>\n",
       "    </div>\n",
       "    "
      ],
      "text/plain": [
       "<IPython.core.display.HTML object>"
      ]
     },
     "metadata": {},
     "output_type": "display_data"
    },
    {
     "name": "stdout",
     "output_type": "stream",
     "text": [
      "------------------------------------------------------------------------------------------\n"
     ]
    },
    {
     "data": {
      "text/html": [
       "\n",
       "    <div style=\"display: flex; flex-direction: column; align-items: flex-start;\">\n",
       "        <p><strong>Image Path:</strong> images/OPJZ2CDUL9I9.jpg</p>\n",
       "        <div style=\"display: flex;\">\n",
       "            <div style=\"margin-right: 20px;\">\n",
       "                <img src=\"images/OPJZ2CDUL9I9.jpg\" style=\"max-width: 300px; max-height: 300px;\">\n",
       "            </div>\n",
       "            <div>\n",
       "                <p><strong>OCR Labels:</strong> </s>BanccorpSouth, PLATINUM, 5386 3396 5412 S733, JOHI O CAROHOLDER, 00/00, MasterCard</p>\n",
       "                <p><strong>Account Number:</strong> 5386 3396 5412 S733</p>\n",
       "                <p><strong>Account Holder Name:</strong> JOHI O CAROHOLDER</p>\n",
       "                <p><strong>Validity Date:</strong> 00/00</p>\n",
       "            </div>\n",
       "        </div>\n",
       "    </div>\n",
       "    "
      ],
      "text/plain": [
       "<IPython.core.display.HTML object>"
      ]
     },
     "metadata": {},
     "output_type": "display_data"
    },
    {
     "name": "stdout",
     "output_type": "stream",
     "text": [
      "------------------------------------------------------------------------------------------\n"
     ]
    },
    {
     "data": {
      "text/html": [
       "\n",
       "    <div style=\"display: flex; flex-direction: column; align-items: flex-start;\">\n",
       "        <p><strong>Image Path:</strong> images/BRI 2.jpeg</p>\n",
       "        <div style=\"display: flex;\">\n",
       "            <div style=\"margin-right: 20px;\">\n",
       "                <img src=\"images/BRI 2.jpeg\" style=\"max-width: 300px; max-height: 300px;\">\n",
       "            </div>\n",
       "            <div>\n",
       "                <p><strong>OCR Labels:</strong> </s>DEBIT BRI, Tabungan BRI, BritAma, Bisnis, PREMIUM, 5221 8420 7778 2029, B.R. ISTRAMITRA, mastercard, WAGR6LCALQ</p>\n",
       "                <p><strong>Account Number:</strong> 5221 8420 7778 2029</p>\n",
       "                <p><strong>Account Holder Name:</strong> B.R. ISTRAMITRA</p>\n",
       "                <p><strong>Validity Date:</strong> None</p>\n",
       "            </div>\n",
       "        </div>\n",
       "    </div>\n",
       "    "
      ],
      "text/plain": [
       "<IPython.core.display.HTML object>"
      ]
     },
     "metadata": {},
     "output_type": "display_data"
    },
    {
     "name": "stdout",
     "output_type": "stream",
     "text": [
      "------------------------------------------------------------------------------------------\n"
     ]
    },
    {
     "data": {
      "text/html": [
       "\n",
       "    <div style=\"display: flex; flex-direction: column; align-items: flex-start;\">\n",
       "        <p><strong>Image Path:</strong> images/Mandiri Kredit.png</p>\n",
       "        <div style=\"display: flex;\">\n",
       "            <div style=\"margin-right: 20px;\">\n",
       "                <img src=\"images/Mandiri Kredit.png\" style=\"max-width: 300px; max-height: 300px;\">\n",
       "            </div>\n",
       "            <div>\n",
       "                <p><strong>OCR Labels:</strong> </s>mandiri, credit, Platinum Corporate Card, 0000 0000 0000 0000, MONTH/YEAR, 12/24, BENNY MULIAWAN, VISA</p>\n",
       "                <p><strong>Account Number:</strong> 0000 0000 0000 0000</p>\n",
       "                <p><strong>Account Holder Name:</strong> BENNY MULIAWAN</p>\n",
       "                <p><strong>Validity Date:</strong> 12/24</p>\n",
       "            </div>\n",
       "        </div>\n",
       "    </div>\n",
       "    "
      ],
      "text/plain": [
       "<IPython.core.display.HTML object>"
      ]
     },
     "metadata": {},
     "output_type": "display_data"
    },
    {
     "name": "stdout",
     "output_type": "stream",
     "text": [
      "------------------------------------------------------------------------------------------\n"
     ]
    },
    {
     "data": {
      "text/html": [
       "\n",
       "    <div style=\"display: flex; flex-direction: column; align-items: flex-start;\">\n",
       "        <p><strong>Image Path:</strong> images/BNI Kredit.jpg</p>\n",
       "        <div style=\"display: flex;\">\n",
       "            <div style=\"margin-right: 20px;\">\n",
       "                <img src=\"images/BNI Kredit.jpg\" style=\"max-width: 300px; max-height: 300px;\">\n",
       "            </div>\n",
       "            <div>\n",
       "                <p><strong>OCR Labels:</strong> </s>XBNI, world, 5100 5500 1234 5678, VALID THRU, 12/25, PUTRA NAGARA</p>\n",
       "                <p><strong>Account Number:</strong> 5100 5500 1234 5678</p>\n",
       "                <p><strong>Account Holder Name:</strong> PUTRA NAGARA</p>\n",
       "                <p><strong>Validity Date:</strong> 12/25</p>\n",
       "            </div>\n",
       "        </div>\n",
       "    </div>\n",
       "    "
      ],
      "text/plain": [
       "<IPython.core.display.HTML object>"
      ]
     },
     "metadata": {},
     "output_type": "display_data"
    },
    {
     "name": "stdout",
     "output_type": "stream",
     "text": [
      "------------------------------------------------------------------------------------------\n"
     ]
    },
    {
     "data": {
      "text/html": [
       "\n",
       "    <div style=\"display: flex; flex-direction: column; align-items: flex-start;\">\n",
       "        <p><strong>Image Path:</strong> images/BNI 1.jpg</p>\n",
       "        <div style=\"display: flex;\">\n",
       "            <div style=\"margin-right: 20px;\">\n",
       "                <img src=\"images/BNI 1.jpg\" style=\"max-width: 300px; max-height: 300px;\">\n",
       "            </div>\n",
       "            <div>\n",
       "                <p><strong>OCR Labels:</strong> </s>Garuda Indonesia, XBNI, DEBIT, 5269 2100 1234 5678, PLATINUM, 03/22, PUTRA NAGARA, GARIOAMES 123456789, mastercard</p>\n",
       "                <p><strong>Account Number:</strong> 5269 2100 1234 5678</p>\n",
       "                <p><strong>Account Holder Name:</strong> PUTRA NAGARA</p>\n",
       "                <p><strong>Validity Date:</strong> 03/22</p>\n",
       "            </div>\n",
       "        </div>\n",
       "    </div>\n",
       "    "
      ],
      "text/plain": [
       "<IPython.core.display.HTML object>"
      ]
     },
     "metadata": {},
     "output_type": "display_data"
    },
    {
     "name": "stdout",
     "output_type": "stream",
     "text": [
      "------------------------------------------------------------------------------------------\n"
     ]
    },
    {
     "data": {
      "text/html": [
       "\n",
       "    <div style=\"display: flex; flex-direction: column; align-items: flex-start;\">\n",
       "        <p><strong>Image Path:</strong> images/BTPN 1.png</p>\n",
       "        <div style=\"display: flex;\">\n",
       "            <div style=\"margin-right: 20px;\">\n",
       "                <img src=\"images/BTPN 1.png\" style=\"max-width: 300px; max-height: 300px;\">\n",
       "            </div>\n",
       "            <div>\n",
       "                <p><strong>OCR Labels:</strong> 6, 7, JENIUS, 1234 5678, 1234 5678, 04/18, VISA, DEBIT</p>\n",
       "                <p><strong>Account Number:</strong> 6712 3456 7812 3456</p>\n",
       "                <p><strong>Account Holder Name:</strong> None</p>\n",
       "                <p><strong>Validity Date:</strong> 04/18</p>\n",
       "            </div>\n",
       "        </div>\n",
       "    </div>\n",
       "    "
      ],
      "text/plain": [
       "<IPython.core.display.HTML object>"
      ]
     },
     "metadata": {},
     "output_type": "display_data"
    },
    {
     "name": "stdout",
     "output_type": "stream",
     "text": [
      "------------------------------------------------------------------------------------------\n"
     ]
    },
    {
     "data": {
      "text/html": [
       "\n",
       "    <div style=\"display: flex; flex-direction: column; align-items: flex-start;\">\n",
       "        <p><strong>Image Path:</strong> images/3HBBXYBC4K2Q.jpg</p>\n",
       "        <div style=\"display: flex;\">\n",
       "            <div style=\"margin-right: 20px;\">\n",
       "                <img src=\"images/3HBBXYBC4K2Q.jpg\" style=\"max-width: 300px; max-height: 300px;\">\n",
       "            </div>\n",
       "            <div>\n",
       "                <p><strong>OCR Labels:</strong> </s>GROUPON, bankintercard, 4000 1234 56789999, VAUDA 12/12, NOMBRE APELLIDO APELLido, VISA</p>\n",
       "                <p><strong>Account Number:</strong> 4000 1234 5678 9999</p>\n",
       "                <p><strong>Account Holder Name:</strong> None</p>\n",
       "                <p><strong>Validity Date:</strong> 12/12</p>\n",
       "            </div>\n",
       "        </div>\n",
       "    </div>\n",
       "    "
      ],
      "text/plain": [
       "<IPython.core.display.HTML object>"
      ]
     },
     "metadata": {},
     "output_type": "display_data"
    },
    {
     "name": "stdout",
     "output_type": "stream",
     "text": [
      "------------------------------------------------------------------------------------------\n"
     ]
    },
    {
     "data": {
      "text/html": [
       "\n",
       "    <div style=\"display: flex; flex-direction: column; align-items: flex-start;\">\n",
       "        <p><strong>Image Path:</strong> images/Danamon Kreditt.png</p>\n",
       "        <div style=\"display: flex;\">\n",
       "            <div style=\"margin-right: 20px;\">\n",
       "                <img src=\"images/Danamon Kreditt.png\" style=\"max-width: 300px; max-height: 300px;\">\n",
       "            </div>\n",
       "            <div>\n",
       "                <p><strong>OCR Labels:</strong> </s>Danamon, world, 5523 3800 0000 0000, 00/00, SONNY K. DARMAWAN, mastercard.</p>\n",
       "                <p><strong>Account Number:</strong> 5523 3800 0000 0000</p>\n",
       "                <p><strong>Account Holder Name:</strong> SONNY K. DARMAWAN</p>\n",
       "                <p><strong>Validity Date:</strong> 00/00</p>\n",
       "            </div>\n",
       "        </div>\n",
       "    </div>\n",
       "    "
      ],
      "text/plain": [
       "<IPython.core.display.HTML object>"
      ]
     },
     "metadata": {},
     "output_type": "display_data"
    },
    {
     "name": "stdout",
     "output_type": "stream",
     "text": [
      "------------------------------------------------------------------------------------------\n"
     ]
    },
    {
     "data": {
      "text/html": [
       "\n",
       "    <div style=\"display: flex; flex-direction: column; align-items: flex-start;\">\n",
       "        <p><strong>Image Path:</strong> images/BCA 1.png</p>\n",
       "        <div style=\"display: flex;\">\n",
       "            <div style=\"margin-right: 20px;\">\n",
       "                <img src=\"images/BCA 1.png\" style=\"max-width: 300px; max-height: 300px;\">\n",
       "            </div>\n",
       "            <div>\n",
       "                <p><strong>OCR Labels:</strong> </s>BCA, BLACK, titanium, 5432 4812 3456 7888, 12/23, ANDHIKA PUTRA</p>\n",
       "                <p><strong>Account Number:</strong> 5432 4812 3456 7888</p>\n",
       "                <p><strong>Account Holder Name:</strong> ANDHIKA PUTRA</p>\n",
       "                <p><strong>Validity Date:</strong> 12/23</p>\n",
       "            </div>\n",
       "        </div>\n",
       "    </div>\n",
       "    "
      ],
      "text/plain": [
       "<IPython.core.display.HTML object>"
      ]
     },
     "metadata": {},
     "output_type": "display_data"
    },
    {
     "name": "stdout",
     "output_type": "stream",
     "text": [
      "------------------------------------------------------------------------------------------\n"
     ]
    },
    {
     "data": {
      "text/html": [
       "\n",
       "    <div style=\"display: flex; flex-direction: column; align-items: flex-start;\">\n",
       "        <p><strong>Image Path:</strong> images/blibli-card.jpeg</p>\n",
       "        <div style=\"display: flex;\">\n",
       "            <div style=\"margin-right: 20px;\">\n",
       "                <img src=\"images/blibli-card.jpeg\" style=\"max-width: 300px; max-height: 300px;\">\n",
       "            </div>\n",
       "            <div>\n",
       "                <p><strong>OCR Labels:</strong> </s>BCA, blibi, platinum, 5203 578 901 2345, ANDKIKA PUTRA</p>\n",
       "                <p><strong>Account Number:</strong> 5203 5789 0123 45</p>\n",
       "                <p><strong>Account Holder Name:</strong> ANDKIKA PUTRA</p>\n",
       "                <p><strong>Validity Date:</strong> None</p>\n",
       "            </div>\n",
       "        </div>\n",
       "    </div>\n",
       "    "
      ],
      "text/plain": [
       "<IPython.core.display.HTML object>"
      ]
     },
     "metadata": {},
     "output_type": "display_data"
    },
    {
     "name": "stdout",
     "output_type": "stream",
     "text": [
      "------------------------------------------------------------------------------------------\n"
     ]
    },
    {
     "data": {
      "text/html": [
       "\n",
       "    <div style=\"display: flex; flex-direction: column; align-items: flex-start;\">\n",
       "        <p><strong>Image Path:</strong> images/I89P0OBN8O09.jpg</p>\n",
       "        <div style=\"display: flex;\">\n",
       "            <div style=\"margin-right: 20px;\">\n",
       "                <img src=\"images/I89P0OBN8O09.jpg\" style=\"max-width: 300px; max-height: 300px;\">\n",
       "            </div>\n",
       "            <div>\n",
       "                <p><strong>OCR Labels:</strong> </s>Sabadell, ZZURICH, 5338 2004 617 0016, CADUCA FINAL 12/18, TARJETA REGALO, MasterCard</p>\n",
       "                <p><strong>Account Number:</strong> 5338 2004 6170 0161</p>\n",
       "                <p><strong>Account Holder Name:</strong> TARJETA REGALO</p>\n",
       "                <p><strong>Validity Date:</strong> 12/18</p>\n",
       "            </div>\n",
       "        </div>\n",
       "    </div>\n",
       "    "
      ],
      "text/plain": [
       "<IPython.core.display.HTML object>"
      ]
     },
     "metadata": {},
     "output_type": "display_data"
    },
    {
     "name": "stdout",
     "output_type": "stream",
     "text": [
      "------------------------------------------------------------------------------------------\n"
     ]
    },
    {
     "data": {
      "text/html": [
       "\n",
       "    <div style=\"display: flex; flex-direction: column; align-items: flex-start;\">\n",
       "        <p><strong>Image Path:</strong> images/panin Kredit.png</p>\n",
       "        <div style=\"display: flex;\">\n",
       "            <div style=\"margin-right: 20px;\">\n",
       "                <img src=\"images/panin Kredit.png\" style=\"max-width: 300px; max-height: 300px;\">\n",
       "            </div>\n",
       "            <div>\n",
       "                <p><strong>OCR Labels:</strong> </s>PaninBank, GOLD, 4377 0123 4567 8901, 2/16, CERMAT INDRA KUSUMA, VISA</p>\n",
       "                <p><strong>Account Number:</strong> 4377 0123 4567 8901</p>\n",
       "                <p><strong>Account Holder Name:</strong> CERMAT INDRA KUSUMA</p>\n",
       "                <p><strong>Validity Date:</strong> None</p>\n",
       "            </div>\n",
       "        </div>\n",
       "    </div>\n",
       "    "
      ],
      "text/plain": [
       "<IPython.core.display.HTML object>"
      ]
     },
     "metadata": {},
     "output_type": "display_data"
    },
    {
     "name": "stdout",
     "output_type": "stream",
     "text": [
      "------------------------------------------------------------------------------------------\n"
     ]
    },
    {
     "data": {
      "text/html": [
       "\n",
       "    <div style=\"display: flex; flex-direction: column; align-items: flex-start;\">\n",
       "        <p><strong>Image Path:</strong> images/image-20240620-094236.png</p>\n",
       "        <div style=\"display: flex;\">\n",
       "            <div style=\"margin-right: 20px;\">\n",
       "                <img src=\"images/image-20240620-094236.png\" style=\"max-width: 300px; max-height: 300px;\">\n",
       "            </div>\n",
       "            <div>\n",
       "                <p><strong>OCR Labels:</strong> </s>#UOB, PREFERRED, PLATINUM, 4382 7088 8888 8888, MEMBER 1.3, VALD 01/17, DANIEL TAN RINGGITPLUS, VISA</p>\n",
       "                <p><strong>Account Number:</strong> 4382 7088 8888 8888</p>\n",
       "                <p><strong>Account Holder Name:</strong> DANIEL TAN RINGGITPLUS</p>\n",
       "                <p><strong>Validity Date:</strong> 01/17</p>\n",
       "            </div>\n",
       "        </div>\n",
       "    </div>\n",
       "    "
      ],
      "text/plain": [
       "<IPython.core.display.HTML object>"
      ]
     },
     "metadata": {},
     "output_type": "display_data"
    },
    {
     "name": "stdout",
     "output_type": "stream",
     "text": [
      "------------------------------------------------------------------------------------------\n"
     ]
    },
    {
     "data": {
      "text/html": [
       "\n",
       "    <div style=\"display: flex; flex-direction: column; align-items: flex-start;\">\n",
       "        <p><strong>Image Path:</strong> images/Permata Bank Debit.png</p>\n",
       "        <div style=\"display: flex;\">\n",
       "            <div style=\"margin-right: 20px;\">\n",
       "                <img src=\"images/Permata Bank Debit.png\" style=\"max-width: 300px; max-height: 300px;\">\n",
       "            </div>\n",
       "            <div>\n",
       "                <p><strong>OCR Labels:</strong> </s>PermataBank, 5599 9800 1234 5678, VISA, LAURA SETIAWAN, Activate Windows</p>\n",
       "                <p><strong>Account Number:</strong> 5599 9800 1234 5678</p>\n",
       "                <p><strong>Account Holder Name:</strong> LAURA SETIAWAN</p>\n",
       "                <p><strong>Validity Date:</strong> None</p>\n",
       "            </div>\n",
       "        </div>\n",
       "    </div>\n",
       "    "
      ],
      "text/plain": [
       "<IPython.core.display.HTML object>"
      ]
     },
     "metadata": {},
     "output_type": "display_data"
    },
    {
     "name": "stdout",
     "output_type": "stream",
     "text": [
      "------------------------------------------------------------------------------------------\n"
     ]
    },
    {
     "data": {
      "text/html": [
       "\n",
       "    <div style=\"display: flex; flex-direction: column; align-items: flex-start;\">\n",
       "        <p><strong>Image Path:</strong> images/5.png</p>\n",
       "        <div style=\"display: flex;\">\n",
       "            <div style=\"margin-right: 20px;\">\n",
       "                <img src=\"images/5.png\" style=\"max-width: 300px; max-height: 300px;\">\n",
       "            </div>\n",
       "            <div>\n",
       "                <p><strong>OCR Labels:</strong> </s>0123 4567 8901 2345, 00/00, CARDHOLDER NAME, VISA</p>\n",
       "                <p><strong>Account Number:</strong> 0123 4567 8901 2345</p>\n",
       "                <p><strong>Account Holder Name:</strong> CARDHOLDER NAME</p>\n",
       "                <p><strong>Validity Date:</strong> 00/00</p>\n",
       "            </div>\n",
       "        </div>\n",
       "    </div>\n",
       "    "
      ],
      "text/plain": [
       "<IPython.core.display.HTML object>"
      ]
     },
     "metadata": {},
     "output_type": "display_data"
    },
    {
     "name": "stdout",
     "output_type": "stream",
     "text": [
      "------------------------------------------------------------------------------------------\n"
     ]
    },
    {
     "data": {
      "text/html": [
       "\n",
       "    <div style=\"display: flex; flex-direction: column; align-items: flex-start;\">\n",
       "        <p><strong>Image Path:</strong> images/Maybank Kredit.jpg</p>\n",
       "        <div style=\"display: flex;\">\n",
       "            <div style=\"margin-right: 20px;\">\n",
       "                <img src=\"images/Maybank Kredit.jpg\" style=\"max-width: 300px; max-height: 300px;\">\n",
       "            </div>\n",
       "            <div>\n",
       "                <p><strong>OCR Labels:</strong> </s>Maybank, Visa, payWave, 4365 0088 8888 88 8888, 06/21, VISA, DANIAL ARIFF, Infinite</p>\n",
       "                <p><strong>Account Number:</strong> 4365 0088 8888 8888</p>\n",
       "                <p><strong>Account Holder Name:</strong> DANIAL ARIFF</p>\n",
       "                <p><strong>Validity Date:</strong> 06/21</p>\n",
       "            </div>\n",
       "        </div>\n",
       "    </div>\n",
       "    "
      ],
      "text/plain": [
       "<IPython.core.display.HTML object>"
      ]
     },
     "metadata": {},
     "output_type": "display_data"
    },
    {
     "name": "stdout",
     "output_type": "stream",
     "text": [
      "------------------------------------------------------------------------------------------\n"
     ]
    },
    {
     "data": {
      "text/html": [
       "\n",
       "    <div style=\"display: flex; flex-direction: column; align-items: flex-start;\">\n",
       "        <p><strong>Image Path:</strong> images/Q94IXLR10ZT1.jpg</p>\n",
       "        <div style=\"display: flex;\">\n",
       "            <div style=\"margin-right: 20px;\">\n",
       "                <img src=\"images/Q94IXLR10ZT1.jpg\" style=\"max-width: 300px; max-height: 300px;\">\n",
       "            </div>\n",
       "            <div>\n",
       "                <p><strong>OCR Labels:</strong> </s>Santander clasie, 545 000 000 000, VISA</p>\n",
       "                <p><strong>Account Number:</strong> 5450 0000 0000</p>\n",
       "                <p><strong>Account Holder Name:</strong> None</p>\n",
       "                <p><strong>Validity Date:</strong> None</p>\n",
       "            </div>\n",
       "        </div>\n",
       "    </div>\n",
       "    "
      ],
      "text/plain": [
       "<IPython.core.display.HTML object>"
      ]
     },
     "metadata": {},
     "output_type": "display_data"
    },
    {
     "name": "stdout",
     "output_type": "stream",
     "text": [
      "------------------------------------------------------------------------------------------\n"
     ]
    },
    {
     "data": {
      "text/html": [
       "\n",
       "    <div style=\"display: flex; flex-direction: column; align-items: flex-start;\">\n",
       "        <p><strong>Image Path:</strong> images/MNC Debit.png</p>\n",
       "        <div style=\"display: flex;\">\n",
       "            <div style=\"margin-right: 20px;\">\n",
       "                <img src=\"images/MNC Debit.png\" style=\"max-width: 300px; max-height: 300px;\">\n",
       "            </div>\n",
       "            <div>\n",
       "                <p><strong>OCR Labels:</strong> </s>DEBIT MNC, MNCO, bank, 6017 8045 6000 7890, 11/22, RITA MONTAGNA, GPN</p>\n",
       "                <p><strong>Account Number:</strong> 6017 8045 6000 7890</p>\n",
       "                <p><strong>Account Holder Name:</strong> RITA MONTAGNA</p>\n",
       "                <p><strong>Validity Date:</strong> 11/22</p>\n",
       "            </div>\n",
       "        </div>\n",
       "    </div>\n",
       "    "
      ],
      "text/plain": [
       "<IPython.core.display.HTML object>"
      ]
     },
     "metadata": {},
     "output_type": "display_data"
    },
    {
     "name": "stdout",
     "output_type": "stream",
     "text": [
      "------------------------------------------------------------------------------------------\n"
     ]
    },
    {
     "data": {
      "text/html": [
       "\n",
       "    <div style=\"display: flex; flex-direction: column; align-items: flex-start;\">\n",
       "        <p><strong>Image Path:</strong> images/Digibank Debit.png</p>\n",
       "        <div style=\"display: flex;\">\n",
       "            <div style=\"margin-right: 20px;\">\n",
       "                <img src=\"images/Digibank Debit.png\" style=\"max-width: 300px; max-height: 300px;\">\n",
       "            </div>\n",
       "            <div>\n",
       "                <p><strong>OCR Labels:</strong> </s>digibank, by DBS, Live more, Bank less, RAGHAV SINGHANIA, Signature</p>\n",
       "                <p><strong>Account Number:</strong> </p>\n",
       "                <p><strong>Account Holder Name:</strong> RAGHAV SINGHANIA</p>\n",
       "                <p><strong>Validity Date:</strong> None</p>\n",
       "            </div>\n",
       "        </div>\n",
       "    </div>\n",
       "    "
      ],
      "text/plain": [
       "<IPython.core.display.HTML object>"
      ]
     },
     "metadata": {},
     "output_type": "display_data"
    },
    {
     "name": "stdout",
     "output_type": "stream",
     "text": [
      "------------------------------------------------------------------------------------------\n"
     ]
    },
    {
     "data": {
      "text/html": [
       "\n",
       "    <div style=\"display: flex; flex-direction: column; align-items: flex-start;\">\n",
       "        <p><strong>Image Path:</strong> images/479DW04PKHRB.jpg</p>\n",
       "        <div style=\"display: flex;\">\n",
       "            <div style=\"margin-right: 20px;\">\n",
       "                <img src=\"images/479DW04PKHRB.jpg\" style=\"max-width: 300px; max-height: 300px;\">\n",
       "            </div>\n",
       "            <div>\n",
       "                <p><strong>OCR Labels:</strong> </s>D, Access Card, 4724 1234 5678 9123, 00/00, VISA, Interac, G RAYMOND, DEBIT</p>\n",
       "                <p><strong>Account Number:</strong> 4724 1234 5678 9123</p>\n",
       "                <p><strong>Account Holder Name:</strong> G RAYMOND</p>\n",
       "                <p><strong>Validity Date:</strong> 00/00</p>\n",
       "            </div>\n",
       "        </div>\n",
       "    </div>\n",
       "    "
      ],
      "text/plain": [
       "<IPython.core.display.HTML object>"
      ]
     },
     "metadata": {},
     "output_type": "display_data"
    },
    {
     "name": "stdout",
     "output_type": "stream",
     "text": [
      "------------------------------------------------------------------------------------------\n"
     ]
    },
    {
     "data": {
      "text/html": [
       "\n",
       "    <div style=\"display: flex; flex-direction: column; align-items: flex-start;\">\n",
       "        <p><strong>Image Path:</strong> images/HSBC Kredit.jpg</p>\n",
       "        <div style=\"display: flex;\">\n",
       "            <div style=\"margin-right: 20px;\">\n",
       "                <img src=\"images/HSBC Kredit.jpg\" style=\"max-width: 300px; max-height: 300px;\">\n",
       "            </div>\n",
       "            <div>\n",
       "                <p><strong>OCR Labels:</strong> </s>HSBC, Premier, world, 5183 2301 1234 5678, THRU 04/21, ADRIAN W, mastercard.</p>\n",
       "                <p><strong>Account Number:</strong> 5183 2301 1234 5678</p>\n",
       "                <p><strong>Account Holder Name:</strong> ADRIAN W</p>\n",
       "                <p><strong>Validity Date:</strong> 04/21</p>\n",
       "            </div>\n",
       "        </div>\n",
       "    </div>\n",
       "    "
      ],
      "text/plain": [
       "<IPython.core.display.HTML object>"
      ]
     },
     "metadata": {},
     "output_type": "display_data"
    },
    {
     "name": "stdout",
     "output_type": "stream",
     "text": [
      "------------------------------------------------------------------------------------------\n"
     ]
    },
    {
     "data": {
      "text/html": [
       "\n",
       "    <div style=\"display: flex; flex-direction: column; align-items: flex-start;\">\n",
       "        <p><strong>Image Path:</strong> images/Mayapada Kredit.jpg</p>\n",
       "        <div style=\"display: flex;\">\n",
       "            <div style=\"margin-right: 20px;\">\n",
       "                <img src=\"images/Mayapada Kredit.jpg\" style=\"max-width: 300px; max-height: 300px;\">\n",
       "            </div>\n",
       "            <div>\n",
       "                <p><strong>OCR Labels:</strong> </s>BANK MAYAPADA, 4206 5378 8123 456 7, 06/18, 06/23, CERMAT INDRA KUSUMA, VISA, Gold</p>\n",
       "                <p><strong>Account Number:</strong> 4206 5378 8123 4567</p>\n",
       "                <p><strong>Account Holder Name:</strong> CERMAT INDRA KUSUMA</p>\n",
       "                <p><strong>Validity Date:</strong> 06/23</p>\n",
       "            </div>\n",
       "        </div>\n",
       "    </div>\n",
       "    "
      ],
      "text/plain": [
       "<IPython.core.display.HTML object>"
      ]
     },
     "metadata": {},
     "output_type": "display_data"
    },
    {
     "name": "stdout",
     "output_type": "stream",
     "text": [
      "------------------------------------------------------------------------------------------\n"
     ]
    },
    {
     "data": {
      "text/html": [
       "\n",
       "    <div style=\"display: flex; flex-direction: column; align-items: flex-start;\">\n",
       "        <p><strong>Image Path:</strong> images/7.jpeg</p>\n",
       "        <div style=\"display: flex;\">\n",
       "            <div style=\"margin-right: 20px;\">\n",
       "                <img src=\"images/7.jpeg\" style=\"max-width: 300px; max-height: 300px;\">\n",
       "            </div>\n",
       "            <div>\n",
       "                <p><strong>OCR Labels:</strong> </s>platinum, BAJAJ, FINSERV, SuperCard, 5369 0700 1234 5678, ANSHUL SHARMA, mastercard</p>\n",
       "                <p><strong>Account Number:</strong> 5369 0700 1234 5678</p>\n",
       "                <p><strong>Account Holder Name:</strong> ANSHUL SHARMA</p>\n",
       "                <p><strong>Validity Date:</strong> None</p>\n",
       "            </div>\n",
       "        </div>\n",
       "    </div>\n",
       "    "
      ],
      "text/plain": [
       "<IPython.core.display.HTML object>"
      ]
     },
     "metadata": {},
     "output_type": "display_data"
    },
    {
     "name": "stdout",
     "output_type": "stream",
     "text": [
      "------------------------------------------------------------------------------------------\n"
     ]
    },
    {
     "data": {
      "text/html": [
       "\n",
       "    <div style=\"display: flex; flex-direction: column; align-items: flex-start;\">\n",
       "        <p><strong>Image Path:</strong> images/F4Y8HKZF7IMU.jpg</p>\n",
       "        <div style=\"display: flex;\">\n",
       "            <div style=\"margin-right: 20px;\">\n",
       "                <img src=\"images/F4Y8HKZF7IMU.jpg\" style=\"max-width: 300px; max-height: 300px;\">\n",
       "            </div>\n",
       "            <div>\n",
       "                <p><strong>OCR Labels:</strong> </s>VISA, VISA, 4000 0807 0820 0002, 00/20-00/00, ROBERT SCHUMANN</p>\n",
       "                <p><strong>Account Number:</strong> 4000 0807 0820 0002</p>\n",
       "                <p><strong>Account Holder Name:</strong> ROBERT SCHUMANN</p>\n",
       "                <p><strong>Validity Date:</strong> 00/20</p>\n",
       "            </div>\n",
       "        </div>\n",
       "    </div>\n",
       "    "
      ],
      "text/plain": [
       "<IPython.core.display.HTML object>"
      ]
     },
     "metadata": {},
     "output_type": "display_data"
    },
    {
     "name": "stdout",
     "output_type": "stream",
     "text": [
      "------------------------------------------------------------------------------------------\n"
     ]
    },
    {
     "data": {
      "text/html": [
       "\n",
       "    <div style=\"display: flex; flex-direction: column; align-items: flex-start;\">\n",
       "        <p><strong>Image Path:</strong> images/2ULKOZ95UYWC.jpg</p>\n",
       "        <div style=\"display: flex;\">\n",
       "            <div style=\"margin-right: 20px;\">\n",
       "                <img src=\"images/2ULKOZ95UYWC.jpg\" style=\"max-width: 300px; max-height: 300px;\">\n",
       "            </div>\n",
       "            <div>\n",
       "                <p><strong>OCR Labels:</strong> </s>BANCO, MEDIOLANUM, MZOIOAHUM BANKING GROCP, 4779 1202 5678 9012, CALESA/M/L 07/16, VISA, MARTA PRATS RISO, ELECTRON</p>\n",
       "                <p><strong>Account Number:</strong> 4779 1202 5678 9012</p>\n",
       "                <p><strong>Account Holder Name:</strong> MARTA PRATS RISO</p>\n",
       "                <p><strong>Validity Date:</strong> 07/16</p>\n",
       "            </div>\n",
       "        </div>\n",
       "    </div>\n",
       "    "
      ],
      "text/plain": [
       "<IPython.core.display.HTML object>"
      ]
     },
     "metadata": {},
     "output_type": "display_data"
    },
    {
     "name": "stdout",
     "output_type": "stream",
     "text": [
      "------------------------------------------------------------------------------------------\n"
     ]
    },
    {
     "data": {
      "text/html": [
       "\n",
       "    <div style=\"display: flex; flex-direction: column; align-items: flex-start;\">\n",
       "        <p><strong>Image Path:</strong> images/Mayapada Debit.png</p>\n",
       "        <div style=\"display: flex;\">\n",
       "            <div style=\"margin-right: 20px;\">\n",
       "                <img src=\"images/Mayapada Debit.png\" style=\"max-width: 300px; max-height: 300px;\">\n",
       "            </div>\n",
       "            <div>\n",
       "                <p><strong>OCR Labels:</strong> </s>BANK MAYAPADA, myCARD, Platinum, 4556 4557 4558 4559, GPN</p>\n",
       "                <p><strong>Account Number:</strong> 4556 4557 4558 4559</p>\n",
       "                <p><strong>Account Holder Name:</strong> None</p>\n",
       "                <p><strong>Validity Date:</strong> None</p>\n",
       "            </div>\n",
       "        </div>\n",
       "    </div>\n",
       "    "
      ],
      "text/plain": [
       "<IPython.core.display.HTML object>"
      ]
     },
     "metadata": {},
     "output_type": "display_data"
    },
    {
     "name": "stdout",
     "output_type": "stream",
     "text": [
      "------------------------------------------------------------------------------------------\n"
     ]
    },
    {
     "data": {
      "text/html": [
       "\n",
       "    <div style=\"display: flex; flex-direction: column; align-items: flex-start;\">\n",
       "        <p><strong>Image Path:</strong> images/OMX0UCB467HK.jpg</p>\n",
       "        <div style=\"display: flex;\">\n",
       "            <div style=\"margin-right: 20px;\">\n",
       "                <img src=\"images/OMX0UCB467HK.jpg\" style=\"max-width: 300px; max-height: 300px;\">\n",
       "            </div>\n",
       "            <div>\n",
       "                <p><strong>OCR Labels:</strong> </s>CREDIT & MEMBERSHIP CARD, MOCK-UP, 9234 5678 9376 5232, 1299, JASON WARIANDO, Card Mockup</p>\n",
       "                <p><strong>Account Number:</strong> 9234 5678 9376 5232</p>\n",
       "                <p><strong>Account Holder Name:</strong> JASON WARIANDO</p>\n",
       "                <p><strong>Validity Date:</strong> None</p>\n",
       "            </div>\n",
       "        </div>\n",
       "    </div>\n",
       "    "
      ],
      "text/plain": [
       "<IPython.core.display.HTML object>"
      ]
     },
     "metadata": {},
     "output_type": "display_data"
    },
    {
     "name": "stdout",
     "output_type": "stream",
     "text": [
      "------------------------------------------------------------------------------------------\n"
     ]
    },
    {
     "data": {
      "text/html": [
       "\n",
       "    <div style=\"display: flex; flex-direction: column; align-items: flex-start;\">\n",
       "        <p><strong>Image Path:</strong> images/Permata Debitt.png</p>\n",
       "        <div style=\"display: flex;\">\n",
       "            <div style=\"margin-right: 20px;\">\n",
       "                <img src=\"images/Permata Debitt.png\" style=\"max-width: 300px; max-height: 300px;\">\n",
       "            </div>\n",
       "            <div>\n",
       "                <p><strong>OCR Labels:</strong> </s>permata, 4000 1234 5678 9010, WILD 12/19, VISA</p>\n",
       "                <p><strong>Account Number:</strong> 4000 1234 5678 9010</p>\n",
       "                <p><strong>Account Holder Name:</strong> None</p>\n",
       "                <p><strong>Validity Date:</strong> 12/19</p>\n",
       "            </div>\n",
       "        </div>\n",
       "    </div>\n",
       "    "
      ],
      "text/plain": [
       "<IPython.core.display.HTML object>"
      ]
     },
     "metadata": {},
     "output_type": "display_data"
    },
    {
     "name": "stdout",
     "output_type": "stream",
     "text": [
      "------------------------------------------------------------------------------------------\n"
     ]
    },
    {
     "data": {
      "text/html": [
       "\n",
       "    <div style=\"display: flex; flex-direction: column; align-items: flex-start;\">\n",
       "        <p><strong>Image Path:</strong> images/4KQN68PA1QOX.jpg</p>\n",
       "        <div style=\"display: flex;\">\n",
       "            <div style=\"margin-right: 20px;\">\n",
       "                <img src=\"images/4KQN68PA1QOX.jpg\" style=\"max-width: 300px; max-height: 300px;\">\n",
       "            </div>\n",
       "            <div>\n",
       "                <p><strong>OCR Labels:</strong> </s>P, PARKSTERLING, Answers You Can Bank On., 12345 5678 9012 3456, Debit, MasterCard, HN SMITH</p>\n",
       "                <p><strong>Account Number:</strong> 1234 5567 8901 2345</p>\n",
       "                <p><strong>Account Holder Name:</strong> HN SMITH</p>\n",
       "                <p><strong>Validity Date:</strong> None</p>\n",
       "            </div>\n",
       "        </div>\n",
       "    </div>\n",
       "    "
      ],
      "text/plain": [
       "<IPython.core.display.HTML object>"
      ]
     },
     "metadata": {},
     "output_type": "display_data"
    },
    {
     "name": "stdout",
     "output_type": "stream",
     "text": [
      "------------------------------------------------------------------------------------------\n"
     ]
    },
    {
     "data": {
      "text/html": [
       "\n",
       "    <div style=\"display: flex; flex-direction: column; align-items: flex-start;\">\n",
       "        <p><strong>Image Path:</strong> images/BT0ROK7ALWSN.jpg</p>\n",
       "        <div style=\"display: flex;\">\n",
       "            <div style=\"margin-right: 20px;\">\n",
       "                <img src=\"images/BT0ROK7ALWSN.jpg\" style=\"max-width: 300px; max-height: 300px;\">\n",
       "            </div>\n",
       "            <div>\n",
       "                <p><strong>OCR Labels:</strong> </s>Sainsbury's Bank, 1234 5678 0000 0000, UNTE, END, 00/00, 00/60, MasterCard, A M OTHER</p>\n",
       "                <p><strong>Account Number:</strong> 1234 5678 0000 0000</p>\n",
       "                <p><strong>Account Holder Name:</strong> A M OTHER</p>\n",
       "                <p><strong>Validity Date:</strong> 00/60</p>\n",
       "            </div>\n",
       "        </div>\n",
       "    </div>\n",
       "    "
      ],
      "text/plain": [
       "<IPython.core.display.HTML object>"
      ]
     },
     "metadata": {},
     "output_type": "display_data"
    },
    {
     "name": "stdout",
     "output_type": "stream",
     "text": [
      "------------------------------------------------------------------------------------------\n"
     ]
    },
    {
     "data": {
      "text/html": [
       "\n",
       "    <div style=\"display: flex; flex-direction: column; align-items: flex-start;\">\n",
       "        <p><strong>Image Path:</strong> images/KFUYBZX0T1MM.jpg</p>\n",
       "        <div style=\"display: flex;\">\n",
       "            <div style=\"margin-right: 20px;\">\n",
       "                <img src=\"images/KFUYBZX0T1MM.jpg\" style=\"max-width: 300px; max-height: 300px;\">\n",
       "            </div>\n",
       "            <div>\n",
       "                <p><strong>OCR Labels:</strong> </s>Credit Card, 1234 5678 9012 3456, NAME SURNAME, VALID 01/12 VALID 01 /13, FROM 01/ 12 THRU</p>\n",
       "                <p><strong>Account Number:</strong> 1234 5678 9012 3456</p>\n",
       "                <p><strong>Account Holder Name:</strong> NAME SURNAME</p>\n",
       "                <p><strong>Validity Date:</strong> 01/12</p>\n",
       "            </div>\n",
       "        </div>\n",
       "    </div>\n",
       "    "
      ],
      "text/plain": [
       "<IPython.core.display.HTML object>"
      ]
     },
     "metadata": {},
     "output_type": "display_data"
    },
    {
     "name": "stdout",
     "output_type": "stream",
     "text": [
      "------------------------------------------------------------------------------------------\n"
     ]
    },
    {
     "data": {
      "text/html": [
       "\n",
       "    <div style=\"display: flex; flex-direction: column; align-items: flex-start;\">\n",
       "        <p><strong>Image Path:</strong> images/JLEUJO2E45WV.jpg</p>\n",
       "        <div style=\"display: flex;\">\n",
       "            <div style=\"margin-right: 20px;\">\n",
       "                <img src=\"images/JLEUJO2E45WV.jpg\" style=\"max-width: 300px; max-height: 300px;\">\n",
       "            </div>\n",
       "            <div>\n",
       "                <p><strong>OCR Labels:</strong> </s>Banco Municipal, 5399 0000, 0000 0001, GUILLERMINA P PARRY, MasterCard</p>\n",
       "                <p><strong>Account Number:</strong> 5399 0000 0000 0001</p>\n",
       "                <p><strong>Account Holder Name:</strong> GUILLERMINA P PARRY</p>\n",
       "                <p><strong>Validity Date:</strong> None</p>\n",
       "            </div>\n",
       "        </div>\n",
       "    </div>\n",
       "    "
      ],
      "text/plain": [
       "<IPython.core.display.HTML object>"
      ]
     },
     "metadata": {},
     "output_type": "display_data"
    },
    {
     "name": "stdout",
     "output_type": "stream",
     "text": [
      "------------------------------------------------------------------------------------------\n"
     ]
    },
    {
     "data": {
      "text/html": [
       "\n",
       "    <div style=\"display: flex; flex-direction: column; align-items: flex-start;\">\n",
       "        <p><strong>Image Path:</strong> images/Mega Kredit.jpg</p>\n",
       "        <div style=\"display: flex;\">\n",
       "            <div style=\"margin-right: 20px;\">\n",
       "                <img src=\"images/Mega Kredit.jpg\" style=\"max-width: 300px; max-height: 300px;\">\n",
       "            </div>\n",
       "            <div>\n",
       "                <p><strong>OCR Labels:</strong> </s>BANKMEGA, 420i 9200 2345 6789, 13/17, CERMAT INDRA KUSUHA, VISA</p>\n",
       "                <p><strong>Account Number:</strong> 9200 2345 6789 1317</p>\n",
       "                <p><strong>Account Holder Name:</strong> CERMAT INDRA KUSUHA</p>\n",
       "                <p><strong>Validity Date:</strong> 13/17</p>\n",
       "            </div>\n",
       "        </div>\n",
       "    </div>\n",
       "    "
      ],
      "text/plain": [
       "<IPython.core.display.HTML object>"
      ]
     },
     "metadata": {},
     "output_type": "display_data"
    },
    {
     "name": "stdout",
     "output_type": "stream",
     "text": [
      "------------------------------------------------------------------------------------------\n"
     ]
    },
    {
     "data": {
      "text/html": [
       "\n",
       "    <div style=\"display: flex; flex-direction: column; align-items: flex-start;\">\n",
       "        <p><strong>Image Path:</strong> images/VV6QUSG6D2IG.jpg</p>\n",
       "        <div style=\"display: flex;\">\n",
       "            <div style=\"margin-right: 20px;\">\n",
       "                <img src=\"images/VV6QUSG6D2IG.jpg\" style=\"max-width: 300px; max-height: 300px;\">\n",
       "            </div>\n",
       "            <div>\n",
       "                <p><strong>OCR Labels:</strong> </s>4550 8452 654 7652, 00/00, ER LOROS IPSUN, VISA</p>\n",
       "                <p><strong>Account Number:</strong> 4550 8452 6547 6520</p>\n",
       "                <p><strong>Account Holder Name:</strong> ER LOROS IPSUN</p>\n",
       "                <p><strong>Validity Date:</strong> 00/00</p>\n",
       "            </div>\n",
       "        </div>\n",
       "    </div>\n",
       "    "
      ],
      "text/plain": [
       "<IPython.core.display.HTML object>"
      ]
     },
     "metadata": {},
     "output_type": "display_data"
    },
    {
     "name": "stdout",
     "output_type": "stream",
     "text": [
      "------------------------------------------------------------------------------------------\n"
     ]
    },
    {
     "data": {
      "text/html": [
       "\n",
       "    <div style=\"display: flex; flex-direction: column; align-items: flex-start;\">\n",
       "        <p><strong>Image Path:</strong> images/Bukopin Debit.png</p>\n",
       "        <div style=\"display: flex;\">\n",
       "            <div style=\"margin-right: 20px;\">\n",
       "                <img src=\"images/Bukopin Debit.png\" style=\"max-width: 300px; max-height: 300px;\">\n",
       "            </div>\n",
       "            <div>\n",
       "                <p><strong>OCR Labels:</strong> </s>BUKOPIN, PRIORITAS, PLATINUM, DEBIT, 5376 8912 4603 5599, 09/25, EKO R. GINDO, mastercard</p>\n",
       "                <p><strong>Account Number:</strong> 5376 8912 4603 5599</p>\n",
       "                <p><strong>Account Holder Name:</strong> EKO R. GINDO</p>\n",
       "                <p><strong>Validity Date:</strong> 09/25</p>\n",
       "            </div>\n",
       "        </div>\n",
       "    </div>\n",
       "    "
      ],
      "text/plain": [
       "<IPython.core.display.HTML object>"
      ]
     },
     "metadata": {},
     "output_type": "display_data"
    },
    {
     "name": "stdout",
     "output_type": "stream",
     "text": [
      "------------------------------------------------------------------------------------------\n"
     ]
    },
    {
     "data": {
      "text/html": [
       "\n",
       "    <div style=\"display: flex; flex-direction: column; align-items: flex-start;\">\n",
       "        <p><strong>Image Path:</strong> images/UOB kredit.jpg</p>\n",
       "        <div style=\"display: flex;\">\n",
       "            <div style=\"margin-right: 20px;\">\n",
       "                <img src=\"images/UOB kredit.jpg\" style=\"max-width: 300px; max-height: 300px;\">\n",
       "            </div>\n",
       "            <div>\n",
       "                <p><strong>OCR Labels:</strong> </s>#UOB, 1234 5678 1234 5678, 11/20, PUTERA NAGARA, GPN</p>\n",
       "                <p><strong>Account Number:</strong> 1234 5678 1234 5678</p>\n",
       "                <p><strong>Account Holder Name:</strong> PUTERA NAGARA</p>\n",
       "                <p><strong>Validity Date:</strong> 11/20</p>\n",
       "            </div>\n",
       "        </div>\n",
       "    </div>\n",
       "    "
      ],
      "text/plain": [
       "<IPython.core.display.HTML object>"
      ]
     },
     "metadata": {},
     "output_type": "display_data"
    },
    {
     "name": "stdout",
     "output_type": "stream",
     "text": [
      "------------------------------------------------------------------------------------------\n"
     ]
    },
    {
     "data": {
      "text/html": [
       "\n",
       "    <div style=\"display: flex; flex-direction: column; align-items: flex-start;\">\n",
       "        <p><strong>Image Path:</strong> images/49RB50NI14DF.jpg</p>\n",
       "        <div style=\"display: flex;\">\n",
       "            <div style=\"margin-right: 20px;\">\n",
       "                <img src=\"images/49RB50NI14DF.jpg\" style=\"max-width: 300px; max-height: 300px;\">\n",
       "            </div>\n",
       "            <div>\n",
       "                <p><strong>OCR Labels:</strong> </s>COLUMBIA, 5310, 4356 7854 3801, 08/17, MasterCard</p>\n",
       "                <p><strong>Account Number:</strong> 5310 4356 7854 3801</p>\n",
       "                <p><strong>Account Holder Name:</strong> None</p>\n",
       "                <p><strong>Validity Date:</strong> 08/17</p>\n",
       "            </div>\n",
       "        </div>\n",
       "    </div>\n",
       "    "
      ],
      "text/plain": [
       "<IPython.core.display.HTML object>"
      ]
     },
     "metadata": {},
     "output_type": "display_data"
    },
    {
     "name": "stdout",
     "output_type": "stream",
     "text": [
      "------------------------------------------------------------------------------------------\n"
     ]
    },
    {
     "data": {
      "text/html": [
       "\n",
       "    <div style=\"display: flex; flex-direction: column; align-items: flex-start;\">\n",
       "        <p><strong>Image Path:</strong> images/Sinarmas Debit.png</p>\n",
       "        <div style=\"display: flex;\">\n",
       "            <div style=\"margin-right: 20px;\">\n",
       "                <img src=\"images/Sinarmas Debit.png\" style=\"max-width: 300px; max-height: 300px;\">\n",
       "            </div>\n",
       "            <div>\n",
       "                <p><strong>OCR Labels:</strong> sinarmas, DEBIT CARD, 6396 8700 0000 0000, 06/12, GPN</p>\n",
       "                <p><strong>Account Number:</strong> 6396 8700 0000 0000</p>\n",
       "                <p><strong>Account Holder Name:</strong> DEBIT CARD</p>\n",
       "                <p><strong>Validity Date:</strong> 06/12</p>\n",
       "            </div>\n",
       "        </div>\n",
       "    </div>\n",
       "    "
      ],
      "text/plain": [
       "<IPython.core.display.HTML object>"
      ]
     },
     "metadata": {},
     "output_type": "display_data"
    },
    {
     "name": "stdout",
     "output_type": "stream",
     "text": [
      "------------------------------------------------------------------------------------------\n"
     ]
    },
    {
     "data": {
      "text/html": [
       "\n",
       "    <div style=\"display: flex; flex-direction: column; align-items: flex-start;\">\n",
       "        <p><strong>Image Path:</strong> images/MNC Kredit.png</p>\n",
       "        <div style=\"display: flex;\">\n",
       "            <div style=\"margin-right: 20px;\">\n",
       "                <img src=\"images/MNC Kredit.png\" style=\"max-width: 300px; max-height: 300px;\">\n",
       "            </div>\n",
       "            <div>\n",
       "                <p><strong>OCR Labels:</strong> </s>MNC, bank, MOTION, titanium, 512 6 3012 3412 3456, 11-25, RITA MONTAGNA</p>\n",
       "                <p><strong>Account Number:</strong> 5126 3012 3412 3456</p>\n",
       "                <p><strong>Account Holder Name:</strong> RITA MONTAGNA</p>\n",
       "                <p><strong>Validity Date:</strong> None</p>\n",
       "            </div>\n",
       "        </div>\n",
       "    </div>\n",
       "    "
      ],
      "text/plain": [
       "<IPython.core.display.HTML object>"
      ]
     },
     "metadata": {},
     "output_type": "display_data"
    },
    {
     "name": "stdout",
     "output_type": "stream",
     "text": [
      "------------------------------------------------------------------------------------------\n"
     ]
    },
    {
     "data": {
      "text/html": [
       "\n",
       "    <div style=\"display: flex; flex-direction: column; align-items: flex-start;\">\n",
       "        <p><strong>Image Path:</strong> images/Panin Debit.png</p>\n",
       "        <div style=\"display: flex;\">\n",
       "            <div style=\"margin-right: 20px;\">\n",
       "                <img src=\"images/Panin Debit.png\" style=\"max-width: 300px; max-height: 300px;\">\n",
       "            </div>\n",
       "            <div>\n",
       "                <p><strong>OCR Labels:</strong> </s>PaninBank, DebitCard, 00000 0000 0000 0000, 00/00</p>\n",
       "                <p><strong>Account Number:</strong> 0000 0000 0000 0000</p>\n",
       "                <p><strong>Account Holder Name:</strong> None</p>\n",
       "                <p><strong>Validity Date:</strong> 00/00</p>\n",
       "            </div>\n",
       "        </div>\n",
       "    </div>\n",
       "    "
      ],
      "text/plain": [
       "<IPython.core.display.HTML object>"
      ]
     },
     "metadata": {},
     "output_type": "display_data"
    },
    {
     "name": "stdout",
     "output_type": "stream",
     "text": [
      "------------------------------------------------------------------------------------------\n"
     ]
    },
    {
     "data": {
      "text/html": [
       "\n",
       "    <div style=\"display: flex; flex-direction: column; align-items: flex-start;\">\n",
       "        <p><strong>Image Path:</strong> images/Mandiri Debit.png</p>\n",
       "        <div style=\"display: flex;\">\n",
       "            <div style=\"margin-right: 20px;\">\n",
       "                <img src=\"images/Mandiri Debit.png\" style=\"max-width: 300px; max-height: 300px;\">\n",
       "            </div>\n",
       "            <div>\n",
       "                <p><strong>OCR Labels:</strong> </s>mandiri, debit gold, 6032 0099 0000 0000 000, 11/23, RAYNATA PUTRI, GPN</p>\n",
       "                <p><strong>Account Number:</strong> 6032 0099 0000 0000</p>\n",
       "                <p><strong>Account Holder Name:</strong> RAYNATA PUTRI</p>\n",
       "                <p><strong>Validity Date:</strong> 11/23</p>\n",
       "            </div>\n",
       "        </div>\n",
       "    </div>\n",
       "    "
      ],
      "text/plain": [
       "<IPython.core.display.HTML object>"
      ]
     },
     "metadata": {},
     "output_type": "display_data"
    },
    {
     "name": "stdout",
     "output_type": "stream",
     "text": [
      "------------------------------------------------------------------------------------------\n"
     ]
    },
    {
     "data": {
      "text/html": [
       "\n",
       "    <div style=\"display: flex; flex-direction: column; align-items: flex-start;\">\n",
       "        <p><strong>Image Path:</strong> images/BSI 4.jpg</p>\n",
       "        <div style=\"display: flex;\">\n",
       "            <div style=\"margin-right: 20px;\">\n",
       "                <img src=\"images/BSI 4.jpg\" style=\"max-width: 300px; max-height: 300px;\">\n",
       "            </div>\n",
       "            <div>\n",
       "                <p><strong>OCR Labels:</strong> </s>BSI Hasanah Card, BSI, 5318 000 000 000, VALID THRU, 12/25, CARD HOLDER NAME, mastercard.</p>\n",
       "                <p><strong>Account Number:</strong> 5318 0000 0000 0122</p>\n",
       "                <p><strong>Account Holder Name:</strong> CARD HOLDER NAME</p>\n",
       "                <p><strong>Validity Date:</strong> 12/25</p>\n",
       "            </div>\n",
       "        </div>\n",
       "    </div>\n",
       "    "
      ],
      "text/plain": [
       "<IPython.core.display.HTML object>"
      ]
     },
     "metadata": {},
     "output_type": "display_data"
    },
    {
     "name": "stdout",
     "output_type": "stream",
     "text": [
      "------------------------------------------------------------------------------------------\n"
     ]
    },
    {
     "data": {
      "text/html": [
       "\n",
       "    <div style=\"display: flex; flex-direction: column; align-items: flex-start;\">\n",
       "        <p><strong>Image Path:</strong> images/1ZI6YW8V85G6.jpg</p>\n",
       "        <div style=\"display: flex;\">\n",
       "            <div style=\"margin-right: 20px;\">\n",
       "                <img src=\"images/1ZI6YW8V85G6.jpg\" style=\"max-width: 300px; max-height: 300px;\">\n",
       "            </div>\n",
       "            <div>\n",
       "                <p><strong>OCR Labels:</strong> </s>Wi, Zink, 0123 4567 8901 2345, TU NOMBRE, VISA</p>\n",
       "                <p><strong>Account Number:</strong> 0123 4567 8901 2345</p>\n",
       "                <p><strong>Account Holder Name:</strong> TU NOMBRE</p>\n",
       "                <p><strong>Validity Date:</strong> None</p>\n",
       "            </div>\n",
       "        </div>\n",
       "    </div>\n",
       "    "
      ],
      "text/plain": [
       "<IPython.core.display.HTML object>"
      ]
     },
     "metadata": {},
     "output_type": "display_data"
    },
    {
     "name": "stdout",
     "output_type": "stream",
     "text": [
      "------------------------------------------------------------------------------------------\n"
     ]
    },
    {
     "data": {
      "text/html": [
       "\n",
       "    <div style=\"display: flex; flex-direction: column; align-items: flex-start;\">\n",
       "        <p><strong>Image Path:</strong> images/image-20240620-094115.png</p>\n",
       "        <div style=\"display: flex;\">\n",
       "            <div style=\"margin-right: 20px;\">\n",
       "                <img src=\"images/image-20240620-094115.png\" style=\"max-width: 300px; max-height: 300px;\">\n",
       "            </div>\n",
       "            <div>\n",
       "                <p><strong>OCR Labels:</strong> </s>TRAVEL, digibank, by DBS, 4374 5600 0000 0000, 08/20, VISA, ADITYA WIJAYA, Signature</p>\n",
       "                <p><strong>Account Number:</strong> 4374 5600 0000 0000</p>\n",
       "                <p><strong>Account Holder Name:</strong> ADITYA WIJAYA</p>\n",
       "                <p><strong>Validity Date:</strong> 08/20</p>\n",
       "            </div>\n",
       "        </div>\n",
       "    </div>\n",
       "    "
      ],
      "text/plain": [
       "<IPython.core.display.HTML object>"
      ]
     },
     "metadata": {},
     "output_type": "display_data"
    },
    {
     "name": "stdout",
     "output_type": "stream",
     "text": [
      "------------------------------------------------------------------------------------------\n"
     ]
    },
    {
     "data": {
      "text/html": [
       "\n",
       "    <div style=\"display: flex; flex-direction: column; align-items: flex-start;\">\n",
       "        <p><strong>Image Path:</strong> images/BTPN 3.png</p>\n",
       "        <div style=\"display: flex;\">\n",
       "            <div style=\"margin-right: 20px;\">\n",
       "                <img src=\"images/BTPN 3.png\" style=\"max-width: 300px; max-height: 300px;\">\n",
       "            </div>\n",
       "            <div>\n",
       "                <p><strong>OCR Labels:</strong> </s>Jenius, 4661 6010, 8576 5678, 09 / 31, Faiz Mikail, VISA</p>\n",
       "                <p><strong>Account Number:</strong> 4661 6010 8576 5678</p>\n",
       "                <p><strong>Account Holder Name:</strong> None</p>\n",
       "                <p><strong>Validity Date:</strong> 09/31</p>\n",
       "            </div>\n",
       "        </div>\n",
       "    </div>\n",
       "    "
      ],
      "text/plain": [
       "<IPython.core.display.HTML object>"
      ]
     },
     "metadata": {},
     "output_type": "display_data"
    },
    {
     "name": "stdout",
     "output_type": "stream",
     "text": [
      "------------------------------------------------------------------------------------------\n"
     ]
    },
    {
     "data": {
      "text/html": [
       "\n",
       "    <div style=\"display: flex; flex-direction: column; align-items: flex-start;\">\n",
       "        <p><strong>Image Path:</strong> images/BJB 1.jpg</p>\n",
       "        <div style=\"display: flex;\">\n",
       "            <div style=\"margin-right: 20px;\">\n",
       "                <img src=\"images/BJB 1.jpg\" style=\"max-width: 300px; max-height: 300px;\">\n",
       "            </div>\n",
       "            <div>\n",
       "                <p><strong>OCR Labels:</strong> </s>XBNI, bank bjb, 4246 7515 4553 5245, VALID THRU, 00/00, CERMAT INDRA KUSUMA, VISA</p>\n",
       "                <p><strong>Account Number:</strong> 4246 7515 4553 5245</p>\n",
       "                <p><strong>Account Holder Name:</strong> CERMAT INDRA KUSUMA</p>\n",
       "                <p><strong>Validity Date:</strong> 00/00</p>\n",
       "            </div>\n",
       "        </div>\n",
       "    </div>\n",
       "    "
      ],
      "text/plain": [
       "<IPython.core.display.HTML object>"
      ]
     },
     "metadata": {},
     "output_type": "display_data"
    },
    {
     "name": "stdout",
     "output_type": "stream",
     "text": [
      "------------------------------------------------------------------------------------------\n"
     ]
    },
    {
     "data": {
      "text/html": [
       "\n",
       "    <div style=\"display: flex; flex-direction: column; align-items: flex-start;\">\n",
       "        <p><strong>Image Path:</strong> images/UOB kreditt.jpg</p>\n",
       "        <div style=\"display: flex;\">\n",
       "            <div style=\"margin-right: 20px;\">\n",
       "                <img src=\"images/UOB kreditt.jpg\" style=\"max-width: 300px; max-height: 300px;\">\n",
       "            </div>\n",
       "            <div>\n",
       "                <p><strong>OCR Labels:</strong> </s>#UOB, VISA, JUNO ADITHYA, Platinum</p>\n",
       "                <p><strong>Account Number:</strong> </p>\n",
       "                <p><strong>Account Holder Name:</strong> JUNO ADITHYA</p>\n",
       "                <p><strong>Validity Date:</strong> None</p>\n",
       "            </div>\n",
       "        </div>\n",
       "    </div>\n",
       "    "
      ],
      "text/plain": [
       "<IPython.core.display.HTML object>"
      ]
     },
     "metadata": {},
     "output_type": "display_data"
    },
    {
     "name": "stdout",
     "output_type": "stream",
     "text": [
      "------------------------------------------------------------------------------------------\n"
     ]
    },
    {
     "data": {
      "text/html": [
       "\n",
       "    <div style=\"display: flex; flex-direction: column; align-items: flex-start;\">\n",
       "        <p><strong>Image Path:</strong> images/8.jpeg</p>\n",
       "        <div style=\"display: flex;\">\n",
       "            <div style=\"margin-right: 20px;\">\n",
       "                <img src=\"images/8.jpeg\" style=\"max-width: 300px; max-height: 300px;\">\n",
       "            </div>\n",
       "            <div>\n",
       "                <p><strong>OCR Labels:</strong> </s>hoppoy, 1123 4567 8900 0000, 15HAN OBEROI, VISA</p>\n",
       "                <p><strong>Account Number:</strong> 1123 4567 8900 0000</p>\n",
       "                <p><strong>Account Holder Name:</strong> None</p>\n",
       "                <p><strong>Validity Date:</strong> None</p>\n",
       "            </div>\n",
       "        </div>\n",
       "    </div>\n",
       "    "
      ],
      "text/plain": [
       "<IPython.core.display.HTML object>"
      ]
     },
     "metadata": {},
     "output_type": "display_data"
    },
    {
     "name": "stdout",
     "output_type": "stream",
     "text": [
      "------------------------------------------------------------------------------------------\n"
     ]
    },
    {
     "data": {
      "text/html": [
       "\n",
       "    <div style=\"display: flex; flex-direction: column; align-items: flex-start;\">\n",
       "        <p><strong>Image Path:</strong> images/Digibank Kredit.png</p>\n",
       "        <div style=\"display: flex;\">\n",
       "            <div style=\"margin-right: 20px;\">\n",
       "                <img src=\"images/Digibank Kredit.png\" style=\"max-width: 300px; max-height: 300px;\">\n",
       "            </div>\n",
       "            <div>\n",
       "                <p><strong>OCR Labels:</strong> </s>BLACK, digibank, by DBS, world, 5416 1600 0000 0000, 11/21, MONTHYEAR, 11/25, ADITYA WIJAYA, mastercard.</p>\n",
       "                <p><strong>Account Number:</strong> 5416 1600 0000 0000</p>\n",
       "                <p><strong>Account Holder Name:</strong> ADITYA WIJAYA</p>\n",
       "                <p><strong>Validity Date:</strong> 11/25</p>\n",
       "            </div>\n",
       "        </div>\n",
       "    </div>\n",
       "    "
      ],
      "text/plain": [
       "<IPython.core.display.HTML object>"
      ]
     },
     "metadata": {},
     "output_type": "display_data"
    },
    {
     "name": "stdout",
     "output_type": "stream",
     "text": [
      "------------------------------------------------------------------------------------------\n"
     ]
    },
    {
     "data": {
      "text/html": [
       "\n",
       "    <div style=\"display: flex; flex-direction: column; align-items: flex-start;\">\n",
       "        <p><strong>Image Path:</strong> images/2.jpeg</p>\n",
       "        <div style=\"display: flex;\">\n",
       "            <div style=\"margin-right: 20px;\">\n",
       "                <img src=\"images/2.jpeg\" style=\"max-width: 300px; max-height: 300px;\">\n",
       "            </div>\n",
       "            <div>\n",
       "                <p><strong>OCR Labels:</strong> </s>ICICI Bank, Platinum, 4375 5100 1234 5678, 江 02/14, 1% 01/18, ROHIT KHANNA, VISA</p>\n",
       "                <p><strong>Account Number:</strong> 4375 5100 1234 5678</p>\n",
       "                <p><strong>Account Holder Name:</strong> ROHIT KHANNA</p>\n",
       "                <p><strong>Validity Date:</strong> 01/18</p>\n",
       "            </div>\n",
       "        </div>\n",
       "    </div>\n",
       "    "
      ],
      "text/plain": [
       "<IPython.core.display.HTML object>"
      ]
     },
     "metadata": {},
     "output_type": "display_data"
    },
    {
     "name": "stdout",
     "output_type": "stream",
     "text": [
      "------------------------------------------------------------------------------------------\n"
     ]
    },
    {
     "data": {
      "text/html": [
       "\n",
       "    <div style=\"display: flex; flex-direction: column; align-items: flex-start;\">\n",
       "        <p><strong>Image Path:</strong> images/Cimb Niaga 2.jpg</p>\n",
       "        <div style=\"display: flex;\">\n",
       "            <div style=\"margin-right: 20px;\">\n",
       "                <img src=\"images/Cimb Niaga 2.jpg\" style=\"max-width: 300px; max-height: 300px;\">\n",
       "            </div>\n",
       "            <div>\n",
       "                <p><strong>OCR Labels:</strong> </s>CIMB NIAGA, Saya Indonesia!, 5899 2900 000 000 000, 00/00, HARYANTO WIBOWO, H123456, GPN</p>\n",
       "                <p><strong>Account Number:</strong> 5899 2900 0000 0000</p>\n",
       "                <p><strong>Account Holder Name:</strong> HARYANTO WIBOWO</p>\n",
       "                <p><strong>Validity Date:</strong> 00/00</p>\n",
       "            </div>\n",
       "        </div>\n",
       "    </div>\n",
       "    "
      ],
      "text/plain": [
       "<IPython.core.display.HTML object>"
      ]
     },
     "metadata": {},
     "output_type": "display_data"
    },
    {
     "name": "stdout",
     "output_type": "stream",
     "text": [
      "------------------------------------------------------------------------------------------\n"
     ]
    },
    {
     "data": {
      "text/html": [
       "\n",
       "    <div style=\"display: flex; flex-direction: column; align-items: flex-start;\">\n",
       "        <p><strong>Image Path:</strong> images/image-20240620-094326.png</p>\n",
       "        <div style=\"display: flex;\">\n",
       "            <div style=\"margin-right: 20px;\">\n",
       "                <img src=\"images/image-20240620-094326.png\" style=\"max-width: 300px; max-height: 300px;\">\n",
       "            </div>\n",
       "            <div>\n",
       "                <p><strong>OCR Labels:</strong> </s>Maybank, 4000, 1234, 5678, 9010, MINI, 08/27, S87, VISA, TONY IRAWAN, lefridia</p>\n",
       "                <p><strong>Account Number:</strong> 4000 1234 5678 9010</p>\n",
       "                <p><strong>Account Holder Name:</strong> TONY IRAWAN</p>\n",
       "                <p><strong>Validity Date:</strong> 08/27</p>\n",
       "            </div>\n",
       "        </div>\n",
       "    </div>\n",
       "    "
      ],
      "text/plain": [
       "<IPython.core.display.HTML object>"
      ]
     },
     "metadata": {},
     "output_type": "display_data"
    },
    {
     "name": "stdout",
     "output_type": "stream",
     "text": [
      "------------------------------------------------------------------------------------------\n"
     ]
    },
    {
     "data": {
      "text/html": [
       "\n",
       "    <div style=\"display: flex; flex-direction: column; align-items: flex-start;\">\n",
       "        <p><strong>Image Path:</strong> images/BJB Debit.png</p>\n",
       "        <div style=\"display: flex;\">\n",
       "            <div style=\"margin-right: 20px;\">\n",
       "                <img src=\"images/BJB Debit.png\" style=\"max-width: 300px; max-height: 300px;\">\n",
       "            </div>\n",
       "            <div>\n",
       "                <p><strong>OCR Labels:</strong> </s>bank bjb, 62201 201123 123456, NAYLA MONICA</p>\n",
       "                <p><strong>Account Number:</strong> 6220 1201 1231 2345</p>\n",
       "                <p><strong>Account Holder Name:</strong> NAYLA MONICA</p>\n",
       "                <p><strong>Validity Date:</strong> None</p>\n",
       "            </div>\n",
       "        </div>\n",
       "    </div>\n",
       "    "
      ],
      "text/plain": [
       "<IPython.core.display.HTML object>"
      ]
     },
     "metadata": {},
     "output_type": "display_data"
    },
    {
     "name": "stdout",
     "output_type": "stream",
     "text": [
      "------------------------------------------------------------------------------------------\n"
     ]
    },
    {
     "data": {
      "text/html": [
       "\n",
       "    <div style=\"display: flex; flex-direction: column; align-items: flex-start;\">\n",
       "        <p><strong>Image Path:</strong> images/OCBC NISP Kredit.png</p>\n",
       "        <div style=\"display: flex;\">\n",
       "            <div style=\"margin-right: 20px;\">\n",
       "                <img src=\"images/OCBC NISP Kredit.png\" style=\"max-width: 300px; max-height: 300px;\">\n",
       "            </div>\n",
       "            <div>\n",
       "                <p><strong>OCR Labels:</strong> </s>OCBC Bank, 90ºN, world, 5524 1001 8888 8888, 08/24, EVAN TAY</p>\n",
       "                <p><strong>Account Number:</strong> 5524 1001 8888 8888</p>\n",
       "                <p><strong>Account Holder Name:</strong> EVAN TAY</p>\n",
       "                <p><strong>Validity Date:</strong> 08/24</p>\n",
       "            </div>\n",
       "        </div>\n",
       "    </div>\n",
       "    "
      ],
      "text/plain": [
       "<IPython.core.display.HTML object>"
      ]
     },
     "metadata": {},
     "output_type": "display_data"
    },
    {
     "name": "stdout",
     "output_type": "stream",
     "text": [
      "------------------------------------------------------------------------------------------\n"
     ]
    },
    {
     "data": {
      "text/html": [
       "\n",
       "    <div style=\"display: flex; flex-direction: column; align-items: flex-start;\">\n",
       "        <p><strong>Image Path:</strong> images/BSI 3.png</p>\n",
       "        <div style=\"display: flex;\">\n",
       "            <div style=\"margin-right: 20px;\">\n",
       "                <img src=\"images/BSI 3.png\" style=\"max-width: 300px; max-height: 300px;\">\n",
       "            </div>\n",
       "            <div>\n",
       "                <p><strong>OCR Labels:</strong> </s>BSI, L034 9400 0000 0000, 12/24, CARD HOLDER NAME, GPN</p>\n",
       "                <p><strong>Account Number:</strong> 9400 0000 0000 1224</p>\n",
       "                <p><strong>Account Holder Name:</strong> CARD HOLDER NAME</p>\n",
       "                <p><strong>Validity Date:</strong> 12/24</p>\n",
       "            </div>\n",
       "        </div>\n",
       "    </div>\n",
       "    "
      ],
      "text/plain": [
       "<IPython.core.display.HTML object>"
      ]
     },
     "metadata": {},
     "output_type": "display_data"
    },
    {
     "name": "stdout",
     "output_type": "stream",
     "text": [
      "------------------------------------------------------------------------------------------\n"
     ]
    },
    {
     "data": {
      "text/html": [
       "\n",
       "    <div style=\"display: flex; flex-direction: column; align-items: flex-start;\">\n",
       "        <p><strong>Image Path:</strong> images/1.jpeg</p>\n",
       "        <div style=\"display: flex;\">\n",
       "            <div style=\"margin-right: 20px;\">\n",
       "                <img src=\"images/1.jpeg\" style=\"max-width: 300px; max-height: 300px;\">\n",
       "            </div>\n",
       "            <div>\n",
       "                <p><strong>OCR Labels:</strong> </s>IndianOil, HDFC BANK, 4341 6834 5678 9010, VAD 09/19, WALP 09/22, VISA, RAVI SHANKAR, Platinum</p>\n",
       "                <p><strong>Account Number:</strong> 4341 6834 5678 9010</p>\n",
       "                <p><strong>Account Holder Name:</strong> RAVI SHANKAR</p>\n",
       "                <p><strong>Validity Date:</strong> 09/22</p>\n",
       "            </div>\n",
       "        </div>\n",
       "    </div>\n",
       "    "
      ],
      "text/plain": [
       "<IPython.core.display.HTML object>"
      ]
     },
     "metadata": {},
     "output_type": "display_data"
    },
    {
     "name": "stdout",
     "output_type": "stream",
     "text": [
      "------------------------------------------------------------------------------------------\n"
     ]
    },
    {
     "data": {
      "text/html": [
       "\n",
       "    <div style=\"display: flex; flex-direction: column; align-items: flex-start;\">\n",
       "        <p><strong>Image Path:</strong> images/Sinarmas Kredit.jpg</p>\n",
       "        <div style=\"display: flex;\">\n",
       "            <div style=\"margin-right: 20px;\">\n",
       "                <img src=\"images/Sinarmas Kredit.jpg\" style=\"max-width: 300px; max-height: 300px;\">\n",
       "            </div>\n",
       "            <div>\n",
       "                <p><strong>OCR Labels:</strong> </s>bank, sinarmas, CASHBACK, PLATINUM, 4893 1200 000 000 011, MEMER 1988, VAP 11/13, CARDHOLDER'S NAME, VISA</p>\n",
       "                <p><strong>Account Number:</strong> 4893 1200 0000 0001</p>\n",
       "                <p><strong>Account Holder Name:</strong> None</p>\n",
       "                <p><strong>Validity Date:</strong> 11/13</p>\n",
       "            </div>\n",
       "        </div>\n",
       "    </div>\n",
       "    "
      ],
      "text/plain": [
       "<IPython.core.display.HTML object>"
      ]
     },
     "metadata": {},
     "output_type": "display_data"
    },
    {
     "name": "stdout",
     "output_type": "stream",
     "text": [
      "------------------------------------------------------------------------------------------\n"
     ]
    },
    {
     "data": {
      "text/html": [
       "\n",
       "    <div style=\"display: flex; flex-direction: column; align-items: flex-start;\">\n",
       "        <p><strong>Image Path:</strong> images/FH31535VEGMS.jpg</p>\n",
       "        <div style=\"display: flex;\">\n",
       "            <div style=\"margin-right: 20px;\">\n",
       "                <img src=\"images/FH31535VEGMS.jpg\" style=\"max-width: 300px; max-height: 300px;\">\n",
       "            </div>\n",
       "            <div>\n",
       "                <p><strong>OCR Labels:</strong> </s>Banco Muncipal, 4509 1255 4301 0729, 01/20, 45091255</p>\n",
       "                <p><strong>Account Number:</strong> 4509 1255</p>\n",
       "                <p><strong>Account Holder Name:</strong> None</p>\n",
       "                <p><strong>Validity Date:</strong> 01/20</p>\n",
       "            </div>\n",
       "        </div>\n",
       "    </div>\n",
       "    "
      ],
      "text/plain": [
       "<IPython.core.display.HTML object>"
      ]
     },
     "metadata": {},
     "output_type": "display_data"
    },
    {
     "name": "stdout",
     "output_type": "stream",
     "text": [
      "------------------------------------------------------------------------------------------\n"
     ]
    },
    {
     "data": {
      "text/html": [
       "\n",
       "    <div style=\"display: flex; flex-direction: column; align-items: flex-start;\">\n",
       "        <p><strong>Image Path:</strong> images/Mega Debit.png</p>\n",
       "        <div style=\"display: flex;\">\n",
       "            <div style=\"margin-right: 20px;\">\n",
       "                <img src=\"images/Mega Debit.png\" style=\"max-width: 300px; max-height: 300px;\">\n",
       "            </div>\n",
       "            <div>\n",
       "                <p><strong>OCR Labels:</strong> </s>MEGAPASS, BANKMEGA, 4214 0812 3456 7890, 07/20, VISA, ADI PRATAMA, Debit</p>\n",
       "                <p><strong>Account Number:</strong> 4214 0812 3456 7890</p>\n",
       "                <p><strong>Account Holder Name:</strong> ADI PRATAMA</p>\n",
       "                <p><strong>Validity Date:</strong> 07/20</p>\n",
       "            </div>\n",
       "        </div>\n",
       "    </div>\n",
       "    "
      ],
      "text/plain": [
       "<IPython.core.display.HTML object>"
      ]
     },
     "metadata": {},
     "output_type": "display_data"
    },
    {
     "name": "stdout",
     "output_type": "stream",
     "text": [
      "------------------------------------------------------------------------------------------\n"
     ]
    },
    {
     "data": {
      "text/html": [
       "\n",
       "    <div style=\"display: flex; flex-direction: column; align-items: flex-start;\">\n",
       "        <p><strong>Image Path:</strong> images/UOB Debit.jpg</p>\n",
       "        <div style=\"display: flex;\">\n",
       "            <div style=\"margin-right: 20px;\">\n",
       "                <img src=\"images/UOB Debit.jpg\" style=\"max-width: 300px; max-height: 300px;\">\n",
       "            </div>\n",
       "            <div>\n",
       "                <p><strong>OCR Labels:</strong> </s>#UOB, DEBIT, PUTERA NAGARA</p>\n",
       "                <p><strong>Account Number:</strong> </p>\n",
       "                <p><strong>Account Holder Name:</strong> PUTERA NAGARA</p>\n",
       "                <p><strong>Validity Date:</strong> None</p>\n",
       "            </div>\n",
       "        </div>\n",
       "    </div>\n",
       "    "
      ],
      "text/plain": [
       "<IPython.core.display.HTML object>"
      ]
     },
     "metadata": {},
     "output_type": "display_data"
    },
    {
     "name": "stdout",
     "output_type": "stream",
     "text": [
      "------------------------------------------------------------------------------------------\n"
     ]
    },
    {
     "data": {
      "text/html": [
       "\n",
       "    <div style=\"display: flex; flex-direction: column; align-items: flex-start;\">\n",
       "        <p><strong>Image Path:</strong> images/BCA Debit.png</p>\n",
       "        <div style=\"display: flex;\">\n",
       "            <div style=\"margin-right: 20px;\">\n",
       "                <img src=\"images/BCA Debit.png\" style=\"max-width: 300px; max-height: 300px;\">\n",
       "            </div>\n",
       "            <div>\n",
       "                <p><strong>OCR Labels:</strong> </s>Paspor gold debt, BCA, 5307 0012 345b 7890, ANDHIKA PUTRA, VALID, THRU, 10/22, mastercard</p>\n",
       "                <p><strong>Account Number:</strong> 5307 0012 7890 1022</p>\n",
       "                <p><strong>Account Holder Name:</strong> ANDHIKA PUTRA</p>\n",
       "                <p><strong>Validity Date:</strong> 10/22</p>\n",
       "            </div>\n",
       "        </div>\n",
       "    </div>\n",
       "    "
      ],
      "text/plain": [
       "<IPython.core.display.HTML object>"
      ]
     },
     "metadata": {},
     "output_type": "display_data"
    },
    {
     "name": "stdout",
     "output_type": "stream",
     "text": [
      "------------------------------------------------------------------------------------------\n"
     ]
    },
    {
     "data": {
      "text/html": [
       "\n",
       "    <div style=\"display: flex; flex-direction: column; align-items: flex-start;\">\n",
       "        <p><strong>Image Path:</strong> images/BRI 1.png</p>\n",
       "        <div style=\"display: flex;\">\n",
       "            <div style=\"margin-right: 20px;\">\n",
       "                <img src=\"images/BRI 1.png\" style=\"max-width: 300px; max-height: 300px;\">\n",
       "            </div>\n",
       "            <div>\n",
       "                <p><strong>OCR Labels:</strong> </s>BANK BRI, world, 5188 5603 000 1234, 12/22, B. R. ISTAMITRA, mastercard.</p>\n",
       "                <p><strong>Account Number:</strong> 5188 5603 0001 2341</p>\n",
       "                <p><strong>Account Holder Name:</strong> B. R. ISTAMITRA</p>\n",
       "                <p><strong>Validity Date:</strong> 12/22</p>\n",
       "            </div>\n",
       "        </div>\n",
       "    </div>\n",
       "    "
      ],
      "text/plain": [
       "<IPython.core.display.HTML object>"
      ]
     },
     "metadata": {},
     "output_type": "display_data"
    },
    {
     "name": "stdout",
     "output_type": "stream",
     "text": [
      "------------------------------------------------------------------------------------------\n"
     ]
    },
    {
     "data": {
      "text/html": [
       "\n",
       "    <div style=\"display: flex; flex-direction: column; align-items: flex-start;\">\n",
       "        <p><strong>Image Path:</strong> images/6.jpeg</p>\n",
       "        <div style=\"display: flex;\">\n",
       "            <div style=\"margin-right: 20px;\">\n",
       "                <img src=\"images/6.jpeg\" style=\"max-width: 300px; max-height: 300px;\">\n",
       "            </div>\n",
       "            <div>\n",
       "                <p><strong>OCR Labels:</strong> </s>Indian Overseas Bank, SeLECT, 6529 2991 XXXX XXXX, 06/27, CARDHOLDERNAME, RuPay, CREDIT</p>\n",
       "                <p><strong>Account Number:</strong> 6529 2991 0627</p>\n",
       "                <p><strong>Account Holder Name:</strong> None</p>\n",
       "                <p><strong>Validity Date:</strong> 06/27</p>\n",
       "            </div>\n",
       "        </div>\n",
       "    </div>\n",
       "    "
      ],
      "text/plain": [
       "<IPython.core.display.HTML object>"
      ]
     },
     "metadata": {},
     "output_type": "display_data"
    },
    {
     "name": "stdout",
     "output_type": "stream",
     "text": [
      "------------------------------------------------------------------------------------------\n"
     ]
    },
    {
     "data": {
      "text/html": [
       "\n",
       "    <div style=\"display: flex; flex-direction: column; align-items: flex-start;\">\n",
       "        <p><strong>Image Path:</strong> images/8UT3XG32IXVE.jpg</p>\n",
       "        <div style=\"display: flex;\">\n",
       "            <div style=\"margin-right: 20px;\">\n",
       "                <img src=\"images/8UT3XG32IXVE.jpg\" style=\"max-width: 300px; max-height: 300px;\">\n",
       "            </div>\n",
       "            <div>\n",
       "                <p><strong>OCR Labels:</strong> </s>KBC, VISA, Business, Credit, 4891 0000 0000 0000 000, 00/00 100Y, KOEN WILLENS</p>\n",
       "                <p><strong>Account Number:</strong> 4891 0000 0000 0000</p>\n",
       "                <p><strong>Account Holder Name:</strong> KOEN WILLENS</p>\n",
       "                <p><strong>Validity Date:</strong> 00/00</p>\n",
       "            </div>\n",
       "        </div>\n",
       "    </div>\n",
       "    "
      ],
      "text/plain": [
       "<IPython.core.display.HTML object>"
      ]
     },
     "metadata": {},
     "output_type": "display_data"
    },
    {
     "name": "stdout",
     "output_type": "stream",
     "text": [
      "------------------------------------------------------------------------------------------\n"
     ]
    },
    {
     "data": {
      "text/html": [
       "\n",
       "    <div style=\"display: flex; flex-direction: column; align-items: flex-start;\">\n",
       "        <p><strong>Image Path:</strong> images/Danamon Debit.png</p>\n",
       "        <div style=\"display: flex;\">\n",
       "            <div style=\"margin-right: 20px;\">\n",
       "                <img src=\"images/Danamon Debit.png\" style=\"max-width: 300px; max-height: 300px;\">\n",
       "            </div>\n",
       "            <div>\n",
       "                <p><strong>OCR Labels:</strong> </s>Danamon, debit, 5577 9100 000 000, 00/00, JOHN DOE, mastercard</p>\n",
       "                <p><strong>Account Number:</strong> 5577 9100 0000 0000</p>\n",
       "                <p><strong>Account Holder Name:</strong> JOHN DOE</p>\n",
       "                <p><strong>Validity Date:</strong> 00/00</p>\n",
       "            </div>\n",
       "        </div>\n",
       "    </div>\n",
       "    "
      ],
      "text/plain": [
       "<IPython.core.display.HTML object>"
      ]
     },
     "metadata": {},
     "output_type": "display_data"
    },
    {
     "name": "stdout",
     "output_type": "stream",
     "text": [
      "------------------------------------------------------------------------------------------\n"
     ]
    },
    {
     "data": {
      "text/html": [
       "\n",
       "    <div style=\"display: flex; flex-direction: column; align-items: flex-start;\">\n",
       "        <p><strong>Image Path:</strong> images/WLD3L4ILQCAO.jpg</p>\n",
       "        <div style=\"display: flex;\">\n",
       "            <div style=\"margin-right: 20px;\">\n",
       "                <img src=\"images/WLD3L4ILQCAO.jpg\" style=\"max-width: 300px; max-height: 300px;\">\n",
       "            </div>\n",
       "            <div>\n",
       "                <p><strong>OCR Labels:</strong> </s>Generic Bank, 1234 5678 98764 5342, NOB 12/17, JOHN JOHNSON</p>\n",
       "                <p><strong>Account Number:</strong> 1234 5678 9876 4534</p>\n",
       "                <p><strong>Account Holder Name:</strong> JOHN JOHNSON</p>\n",
       "                <p><strong>Validity Date:</strong> 12/17</p>\n",
       "            </div>\n",
       "        </div>\n",
       "    </div>\n",
       "    "
      ],
      "text/plain": [
       "<IPython.core.display.HTML object>"
      ]
     },
     "metadata": {},
     "output_type": "display_data"
    },
    {
     "name": "stdout",
     "output_type": "stream",
     "text": [
      "------------------------------------------------------------------------------------------\n"
     ]
    },
    {
     "data": {
      "text/html": [
       "\n",
       "    <div style=\"display: flex; flex-direction: column; align-items: flex-start;\">\n",
       "        <p><strong>Image Path:</strong> images/OCBC NISP Debit.png</p>\n",
       "        <div style=\"display: flex;\">\n",
       "            <div style=\"margin-right: 20px;\">\n",
       "                <img src=\"images/OCBC NISP Debit.png\" style=\"max-width: 300px; max-height: 300px;\">\n",
       "            </div>\n",
       "            <div>\n",
       "                <p><strong>OCR Labels:</strong> </s>OCBC, 5379 4080 0000 0000, 00 / 00, mastercard.</p>\n",
       "                <p><strong>Account Number:</strong> 5379 4080 0000 0000</p>\n",
       "                <p><strong>Account Holder Name:</strong> None</p>\n",
       "                <p><strong>Validity Date:</strong> 00/00</p>\n",
       "            </div>\n",
       "        </div>\n",
       "    </div>\n",
       "    "
      ],
      "text/plain": [
       "<IPython.core.display.HTML object>"
      ]
     },
     "metadata": {},
     "output_type": "display_data"
    },
    {
     "name": "stdout",
     "output_type": "stream",
     "text": [
      "------------------------------------------------------------------------------------------\n"
     ]
    }
   ],
   "source": [
    "for i in range(len(results)):\n",
    "    display_image_and_info(image_paths[i], cleaned_extraction[i], results[i]['<OCR_WITH_REGION>'])"
   ]
  },
  {
   "cell_type": "code",
   "execution_count": null,
   "id": "1152ff97-8f41-43f0-8680-f18938a0b90e",
   "metadata": {},
   "outputs": [],
   "source": []
  },
  {
   "cell_type": "code",
   "execution_count": 2,
   "id": "f5a4a5d5-a10f-42e0-98ba-6eaa133e0e7e",
   "metadata": {
    "tags": []
   },
   "outputs": [],
   "source": [
    "import psutil\n",
    "from signal import SIGKILL\n",
    " \n",
    "for proc in psutil.process_iter(['pid', 'name']):\n",
    "            try:\n",
    "                if proc.info['pid'] == 1:\n",
    "                    continue\n",
    "                for conns in proc.connections(kind='inet'):\n",
    "                    if conns.laddr.port in [8000]:\n",
    "                        print(conns.laddr.port)\n",
    "                        proc.send_signal(SIGKILL)\n",
    "            except (psutil.NoSuchProcess, psutil.AccessDenied) as e:\n",
    "                # logging.error(e)\n",
    "                # print(e)\n",
    "                pass"
   ]
  },
  {
   "cell_type": "code",
   "execution_count": null,
   "id": "c3b47af9-2dab-450a-a2fc-37d334ec7cce",
   "metadata": {},
   "outputs": [],
   "source": []
  }
 ],
 "metadata": {
  "environment": {
   "kernel": "python3",
   "name": ".m122",
   "type": "gcloud",
   "uri": "us-docker.pkg.dev/deeplearning-platform-release/gcr.io/:m122"
  },
  "kernelspec": {
   "display_name": "Python 3 (Local)",
   "language": "python",
   "name": "python3"
  },
  "language_info": {
   "codemirror_mode": {
    "name": "ipython",
    "version": 3
   },
   "file_extension": ".py",
   "mimetype": "text/x-python",
   "name": "python",
   "nbconvert_exporter": "python",
   "pygments_lexer": "ipython3",
   "version": "3.10.14"
  }
 },
 "nbformat": 4,
 "nbformat_minor": 5
}
